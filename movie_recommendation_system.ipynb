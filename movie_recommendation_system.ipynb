{
  "cells": [
    {
      "cell_type": "markdown",
      "id": "07e0c0ee",
      "metadata": {
        "id": "07e0c0ee"
      },
      "source": [
        "# MOVIE RECOMMENDATION SYSTEM\n",
        "\n",
        "## Context\n",
        "In this project, I build three recommendation systems:\n",
        "\n",
        "\n",
        "*   Nonpersonalized recommendations\n",
        "*   Content-based recommendations\n",
        "* Collaborative filtering\n",
        "\n",
        "\n",
        "\n",
        "## Data Understanding\n",
        "The datasets considered here are the [MovieLens dataset](https://www.kaggle.com/datasets/grouplens/movielens-20m-dataset).\n",
        "The data considered are contained in two files.\n",
        "1. **rating.csv** that contains ratings of movies by users: userId, movieId, rating, timestamp\n",
        "2. **movie.csv** that contains movie information: movieId, title, genres\n",
        "\n"
      ]
    },
    {
      "cell_type": "code",
      "execution_count": 1,
      "id": "ef2a0718",
      "metadata": {
        "id": "ef2a0718"
      },
      "outputs": [],
      "source": [
        "# Import libraries\n",
        "import pandas as pd\n",
        "import numpy as np\n",
        "import matplotlib.pyplot as plt\n",
        "import seaborn as sns"
      ]
    },
    {
      "cell_type": "code",
      "source": [
        "from google.colab import drive\n",
        "drive.mount('/content/drive')"
      ],
      "metadata": {
        "colab": {
          "base_uri": "https://localhost:8080/"
        },
        "id": "RN3cEi0yQmH8",
        "outputId": "37c33a0e-1da3-4a62-e5d7-a8d009b268de"
      },
      "id": "RN3cEi0yQmH8",
      "execution_count": 2,
      "outputs": [
        {
          "output_type": "stream",
          "name": "stdout",
          "text": [
            "Drive already mounted at /content/drive; to attempt to forcibly remount, call drive.mount(\"/content/drive\", force_remount=True).\n"
          ]
        }
      ]
    },
    {
      "cell_type": "code",
      "execution_count": 3,
      "id": "1990f853",
      "metadata": {
        "id": "1990f853"
      },
      "outputs": [],
      "source": [
        "# Read the csv files\n",
        "rating = pd.read_csv('/content/drive/My Drive/Colab_Notebooks/data/rating.csv') \n",
        "movie = pd.read_csv('/content/drive/My Drive/Colab_Notebooks/data/movie.csv')"
      ]
    },
    {
      "cell_type": "markdown",
      "source": [
        "Let us explore the datasets."
      ],
      "metadata": {
        "id": "FyTtrnJfMelI"
      },
      "id": "FyTtrnJfMelI"
    },
    {
      "cell_type": "markdown",
      "source": [
        "## Describe data"
      ],
      "metadata": {
        "id": "t1_rMqcoN52E"
      },
      "id": "t1_rMqcoN52E"
    },
    {
      "cell_type": "markdown",
      "source": [
        "Let us start with the movie dataset"
      ],
      "metadata": {
        "id": "Fz3kEFcf9RLb"
      },
      "id": "Fz3kEFcf9RLb"
    },
    {
      "cell_type": "markdown",
      "source": [
        "### Movie dataset"
      ],
      "metadata": {
        "id": "0jxM-s7N6qz9"
      },
      "id": "0jxM-s7N6qz9"
    },
    {
      "cell_type": "code",
      "source": [
        "movie.columns"
      ],
      "metadata": {
        "colab": {
          "base_uri": "https://localhost:8080/"
        },
        "id": "R9kUMQJpMub-",
        "outputId": "e84d5de8-487b-4704-e6f4-6a35c1acc9e0"
      },
      "id": "R9kUMQJpMub-",
      "execution_count": 4,
      "outputs": [
        {
          "output_type": "execute_result",
          "data": {
            "text/plain": [
              "Index(['movieId', 'title', 'genres'], dtype='object')"
            ]
          },
          "metadata": {},
          "execution_count": 4
        }
      ]
    },
    {
      "cell_type": "code",
      "source": [
        "movie.shape"
      ],
      "metadata": {
        "colab": {
          "base_uri": "https://localhost:8080/"
        },
        "id": "fGTfZjN5MufT",
        "outputId": "ad7ab9d8-2769-4854-db9e-0c66709ca9a3"
      },
      "id": "fGTfZjN5MufT",
      "execution_count": 5,
      "outputs": [
        {
          "output_type": "execute_result",
          "data": {
            "text/plain": [
              "(27278, 3)"
            ]
          },
          "metadata": {},
          "execution_count": 5
        }
      ]
    },
    {
      "cell_type": "code",
      "source": [
        "movie.dtypes"
      ],
      "metadata": {
        "colab": {
          "base_uri": "https://localhost:8080/"
        },
        "id": "wLw27P1BMuir",
        "outputId": "32c836e8-c7ef-4d55-eb90-891c92a830d2"
      },
      "id": "wLw27P1BMuir",
      "execution_count": 6,
      "outputs": [
        {
          "output_type": "execute_result",
          "data": {
            "text/plain": [
              "movieId     int64\n",
              "title      object\n",
              "genres     object\n",
              "dtype: object"
            ]
          },
          "metadata": {},
          "execution_count": 6
        }
      ]
    },
    {
      "cell_type": "code",
      "source": [
        "movie.info()"
      ],
      "metadata": {
        "colab": {
          "base_uri": "https://localhost:8080/"
        },
        "id": "m8QQq8GWMuod",
        "outputId": "da9d8250-ffdb-4b11-83dd-c640790ffc53"
      },
      "id": "m8QQq8GWMuod",
      "execution_count": 7,
      "outputs": [
        {
          "output_type": "stream",
          "name": "stdout",
          "text": [
            "<class 'pandas.core.frame.DataFrame'>\n",
            "RangeIndex: 27278 entries, 0 to 27277\n",
            "Data columns (total 3 columns):\n",
            " #   Column   Non-Null Count  Dtype \n",
            "---  ------   --------------  ----- \n",
            " 0   movieId  27278 non-null  int64 \n",
            " 1   title    27278 non-null  object\n",
            " 2   genres   27278 non-null  object\n",
            "dtypes: int64(1), object(2)\n",
            "memory usage: 639.5+ KB\n"
          ]
        }
      ]
    },
    {
      "cell_type": "code",
      "source": [
        "movie.head()"
      ],
      "metadata": {
        "colab": {
          "base_uri": "https://localhost:8080/",
          "height": 204
        },
        "id": "xCNudE_xNDKP",
        "outputId": "a05f8e5b-731e-469c-be0e-302d249d25d8"
      },
      "id": "xCNudE_xNDKP",
      "execution_count": 8,
      "outputs": [
        {
          "output_type": "execute_result",
          "data": {
            "text/plain": [
              "   movieId                               title  \\\n",
              "0        1                    Toy Story (1995)   \n",
              "1        2                      Jumanji (1995)   \n",
              "2        3             Grumpier Old Men (1995)   \n",
              "3        4            Waiting to Exhale (1995)   \n",
              "4        5  Father of the Bride Part II (1995)   \n",
              "\n",
              "                                        genres  \n",
              "0  Adventure|Animation|Children|Comedy|Fantasy  \n",
              "1                   Adventure|Children|Fantasy  \n",
              "2                               Comedy|Romance  \n",
              "3                         Comedy|Drama|Romance  \n",
              "4                                       Comedy  "
            ],
            "text/html": [
              "\n",
              "  <div id=\"df-8fcb40e5-49e1-409e-bcca-8e39ee21cf60\">\n",
              "    <div class=\"colab-df-container\">\n",
              "      <div>\n",
              "<style scoped>\n",
              "    .dataframe tbody tr th:only-of-type {\n",
              "        vertical-align: middle;\n",
              "    }\n",
              "\n",
              "    .dataframe tbody tr th {\n",
              "        vertical-align: top;\n",
              "    }\n",
              "\n",
              "    .dataframe thead th {\n",
              "        text-align: right;\n",
              "    }\n",
              "</style>\n",
              "<table border=\"1\" class=\"dataframe\">\n",
              "  <thead>\n",
              "    <tr style=\"text-align: right;\">\n",
              "      <th></th>\n",
              "      <th>movieId</th>\n",
              "      <th>title</th>\n",
              "      <th>genres</th>\n",
              "    </tr>\n",
              "  </thead>\n",
              "  <tbody>\n",
              "    <tr>\n",
              "      <th>0</th>\n",
              "      <td>1</td>\n",
              "      <td>Toy Story (1995)</td>\n",
              "      <td>Adventure|Animation|Children|Comedy|Fantasy</td>\n",
              "    </tr>\n",
              "    <tr>\n",
              "      <th>1</th>\n",
              "      <td>2</td>\n",
              "      <td>Jumanji (1995)</td>\n",
              "      <td>Adventure|Children|Fantasy</td>\n",
              "    </tr>\n",
              "    <tr>\n",
              "      <th>2</th>\n",
              "      <td>3</td>\n",
              "      <td>Grumpier Old Men (1995)</td>\n",
              "      <td>Comedy|Romance</td>\n",
              "    </tr>\n",
              "    <tr>\n",
              "      <th>3</th>\n",
              "      <td>4</td>\n",
              "      <td>Waiting to Exhale (1995)</td>\n",
              "      <td>Comedy|Drama|Romance</td>\n",
              "    </tr>\n",
              "    <tr>\n",
              "      <th>4</th>\n",
              "      <td>5</td>\n",
              "      <td>Father of the Bride Part II (1995)</td>\n",
              "      <td>Comedy</td>\n",
              "    </tr>\n",
              "  </tbody>\n",
              "</table>\n",
              "</div>\n",
              "      <button class=\"colab-df-convert\" onclick=\"convertToInteractive('df-8fcb40e5-49e1-409e-bcca-8e39ee21cf60')\"\n",
              "              title=\"Convert this dataframe to an interactive table.\"\n",
              "              style=\"display:none;\">\n",
              "        \n",
              "  <svg xmlns=\"http://www.w3.org/2000/svg\" height=\"24px\"viewBox=\"0 0 24 24\"\n",
              "       width=\"24px\">\n",
              "    <path d=\"M0 0h24v24H0V0z\" fill=\"none\"/>\n",
              "    <path d=\"M18.56 5.44l.94 2.06.94-2.06 2.06-.94-2.06-.94-.94-2.06-.94 2.06-2.06.94zm-11 1L8.5 8.5l.94-2.06 2.06-.94-2.06-.94L8.5 2.5l-.94 2.06-2.06.94zm10 10l.94 2.06.94-2.06 2.06-.94-2.06-.94-.94-2.06-.94 2.06-2.06.94z\"/><path d=\"M17.41 7.96l-1.37-1.37c-.4-.4-.92-.59-1.43-.59-.52 0-1.04.2-1.43.59L10.3 9.45l-7.72 7.72c-.78.78-.78 2.05 0 2.83L4 21.41c.39.39.9.59 1.41.59.51 0 1.02-.2 1.41-.59l7.78-7.78 2.81-2.81c.8-.78.8-2.07 0-2.86zM5.41 20L4 18.59l7.72-7.72 1.47 1.35L5.41 20z\"/>\n",
              "  </svg>\n",
              "      </button>\n",
              "      \n",
              "  <style>\n",
              "    .colab-df-container {\n",
              "      display:flex;\n",
              "      flex-wrap:wrap;\n",
              "      gap: 12px;\n",
              "    }\n",
              "\n",
              "    .colab-df-convert {\n",
              "      background-color: #E8F0FE;\n",
              "      border: none;\n",
              "      border-radius: 50%;\n",
              "      cursor: pointer;\n",
              "      display: none;\n",
              "      fill: #1967D2;\n",
              "      height: 32px;\n",
              "      padding: 0 0 0 0;\n",
              "      width: 32px;\n",
              "    }\n",
              "\n",
              "    .colab-df-convert:hover {\n",
              "      background-color: #E2EBFA;\n",
              "      box-shadow: 0px 1px 2px rgba(60, 64, 67, 0.3), 0px 1px 3px 1px rgba(60, 64, 67, 0.15);\n",
              "      fill: #174EA6;\n",
              "    }\n",
              "\n",
              "    [theme=dark] .colab-df-convert {\n",
              "      background-color: #3B4455;\n",
              "      fill: #D2E3FC;\n",
              "    }\n",
              "\n",
              "    [theme=dark] .colab-df-convert:hover {\n",
              "      background-color: #434B5C;\n",
              "      box-shadow: 0px 1px 3px 1px rgba(0, 0, 0, 0.15);\n",
              "      filter: drop-shadow(0px 1px 2px rgba(0, 0, 0, 0.3));\n",
              "      fill: #FFFFFF;\n",
              "    }\n",
              "  </style>\n",
              "\n",
              "      <script>\n",
              "        const buttonEl =\n",
              "          document.querySelector('#df-8fcb40e5-49e1-409e-bcca-8e39ee21cf60 button.colab-df-convert');\n",
              "        buttonEl.style.display =\n",
              "          google.colab.kernel.accessAllowed ? 'block' : 'none';\n",
              "\n",
              "        async function convertToInteractive(key) {\n",
              "          const element = document.querySelector('#df-8fcb40e5-49e1-409e-bcca-8e39ee21cf60');\n",
              "          const dataTable =\n",
              "            await google.colab.kernel.invokeFunction('convertToInteractive',\n",
              "                                                     [key], {});\n",
              "          if (!dataTable) return;\n",
              "\n",
              "          const docLinkHtml = 'Like what you see? Visit the ' +\n",
              "            '<a target=\"_blank\" href=https://colab.research.google.com/notebooks/data_table.ipynb>data table notebook</a>'\n",
              "            + ' to learn more about interactive tables.';\n",
              "          element.innerHTML = '';\n",
              "          dataTable['output_type'] = 'display_data';\n",
              "          await google.colab.output.renderOutput(dataTable, element);\n",
              "          const docLink = document.createElement('div');\n",
              "          docLink.innerHTML = docLinkHtml;\n",
              "          element.appendChild(docLink);\n",
              "        }\n",
              "      </script>\n",
              "    </div>\n",
              "  </div>\n",
              "  "
            ]
          },
          "metadata": {},
          "execution_count": 8
        }
      ]
    },
    {
      "cell_type": "code",
      "source": [
        "movie.isnull().sum()"
      ],
      "metadata": {
        "colab": {
          "base_uri": "https://localhost:8080/"
        },
        "id": "xpacVrtQNDP8",
        "outputId": "fa99fc64-f8ab-4fdc-bea2-ce2132e2f85a"
      },
      "id": "xpacVrtQNDP8",
      "execution_count": 9,
      "outputs": [
        {
          "output_type": "execute_result",
          "data": {
            "text/plain": [
              "movieId    0\n",
              "title      0\n",
              "genres     0\n",
              "dtype: int64"
            ]
          },
          "metadata": {},
          "execution_count": 9
        }
      ]
    },
    {
      "cell_type": "markdown",
      "id": "b2348254",
      "metadata": {
        "id": "b2348254"
      },
      "source": [
        "Since the title column has year on it, we remove the year from title column and generate year column."
      ]
    },
    {
      "cell_type": "code",
      "execution_count": 10,
      "id": "21d28f68",
      "metadata": {
        "id": "21d28f68"
      },
      "outputs": [],
      "source": [
        "movie['year'] = movie.title.str.extract('(\\(\\d\\d\\d\\d\\))',expand=False)\n",
        "# Remove the parentheses\n",
        "movie['year'] = movie.year.str.extract('(\\d\\d\\d\\d)',expand=False)"
      ]
    },
    {
      "cell_type": "code",
      "execution_count": 11,
      "id": "89f226d6",
      "metadata": {
        "colab": {
          "base_uri": "https://localhost:8080/",
          "height": 258
        },
        "id": "89f226d6",
        "outputId": "d2bf0981-1030-482d-e379-aed99690a789"
      },
      "outputs": [
        {
          "output_type": "stream",
          "name": "stderr",
          "text": [
            "/usr/local/lib/python3.7/dist-packages/ipykernel_launcher.py:2: FutureWarning: The default value of regex will change from True to False in a future version.\n",
            "  \n"
          ]
        },
        {
          "output_type": "execute_result",
          "data": {
            "text/plain": [
              "   movieId                        title  \\\n",
              "0        1                    Toy Story   \n",
              "1        2                      Jumanji   \n",
              "2        3             Grumpier Old Men   \n",
              "3        4            Waiting to Exhale   \n",
              "4        5  Father of the Bride Part II   \n",
              "\n",
              "                                        genres  year  \n",
              "0  Adventure|Animation|Children|Comedy|Fantasy  1995  \n",
              "1                   Adventure|Children|Fantasy  1995  \n",
              "2                               Comedy|Romance  1995  \n",
              "3                         Comedy|Drama|Romance  1995  \n",
              "4                                       Comedy  1995  "
            ],
            "text/html": [
              "\n",
              "  <div id=\"df-ce862f2f-8011-4966-adeb-4fd68cab392d\">\n",
              "    <div class=\"colab-df-container\">\n",
              "      <div>\n",
              "<style scoped>\n",
              "    .dataframe tbody tr th:only-of-type {\n",
              "        vertical-align: middle;\n",
              "    }\n",
              "\n",
              "    .dataframe tbody tr th {\n",
              "        vertical-align: top;\n",
              "    }\n",
              "\n",
              "    .dataframe thead th {\n",
              "        text-align: right;\n",
              "    }\n",
              "</style>\n",
              "<table border=\"1\" class=\"dataframe\">\n",
              "  <thead>\n",
              "    <tr style=\"text-align: right;\">\n",
              "      <th></th>\n",
              "      <th>movieId</th>\n",
              "      <th>title</th>\n",
              "      <th>genres</th>\n",
              "      <th>year</th>\n",
              "    </tr>\n",
              "  </thead>\n",
              "  <tbody>\n",
              "    <tr>\n",
              "      <th>0</th>\n",
              "      <td>1</td>\n",
              "      <td>Toy Story</td>\n",
              "      <td>Adventure|Animation|Children|Comedy|Fantasy</td>\n",
              "      <td>1995</td>\n",
              "    </tr>\n",
              "    <tr>\n",
              "      <th>1</th>\n",
              "      <td>2</td>\n",
              "      <td>Jumanji</td>\n",
              "      <td>Adventure|Children|Fantasy</td>\n",
              "      <td>1995</td>\n",
              "    </tr>\n",
              "    <tr>\n",
              "      <th>2</th>\n",
              "      <td>3</td>\n",
              "      <td>Grumpier Old Men</td>\n",
              "      <td>Comedy|Romance</td>\n",
              "      <td>1995</td>\n",
              "    </tr>\n",
              "    <tr>\n",
              "      <th>3</th>\n",
              "      <td>4</td>\n",
              "      <td>Waiting to Exhale</td>\n",
              "      <td>Comedy|Drama|Romance</td>\n",
              "      <td>1995</td>\n",
              "    </tr>\n",
              "    <tr>\n",
              "      <th>4</th>\n",
              "      <td>5</td>\n",
              "      <td>Father of the Bride Part II</td>\n",
              "      <td>Comedy</td>\n",
              "      <td>1995</td>\n",
              "    </tr>\n",
              "  </tbody>\n",
              "</table>\n",
              "</div>\n",
              "      <button class=\"colab-df-convert\" onclick=\"convertToInteractive('df-ce862f2f-8011-4966-adeb-4fd68cab392d')\"\n",
              "              title=\"Convert this dataframe to an interactive table.\"\n",
              "              style=\"display:none;\">\n",
              "        \n",
              "  <svg xmlns=\"http://www.w3.org/2000/svg\" height=\"24px\"viewBox=\"0 0 24 24\"\n",
              "       width=\"24px\">\n",
              "    <path d=\"M0 0h24v24H0V0z\" fill=\"none\"/>\n",
              "    <path d=\"M18.56 5.44l.94 2.06.94-2.06 2.06-.94-2.06-.94-.94-2.06-.94 2.06-2.06.94zm-11 1L8.5 8.5l.94-2.06 2.06-.94-2.06-.94L8.5 2.5l-.94 2.06-2.06.94zm10 10l.94 2.06.94-2.06 2.06-.94-2.06-.94-.94-2.06-.94 2.06-2.06.94z\"/><path d=\"M17.41 7.96l-1.37-1.37c-.4-.4-.92-.59-1.43-.59-.52 0-1.04.2-1.43.59L10.3 9.45l-7.72 7.72c-.78.78-.78 2.05 0 2.83L4 21.41c.39.39.9.59 1.41.59.51 0 1.02-.2 1.41-.59l7.78-7.78 2.81-2.81c.8-.78.8-2.07 0-2.86zM5.41 20L4 18.59l7.72-7.72 1.47 1.35L5.41 20z\"/>\n",
              "  </svg>\n",
              "      </button>\n",
              "      \n",
              "  <style>\n",
              "    .colab-df-container {\n",
              "      display:flex;\n",
              "      flex-wrap:wrap;\n",
              "      gap: 12px;\n",
              "    }\n",
              "\n",
              "    .colab-df-convert {\n",
              "      background-color: #E8F0FE;\n",
              "      border: none;\n",
              "      border-radius: 50%;\n",
              "      cursor: pointer;\n",
              "      display: none;\n",
              "      fill: #1967D2;\n",
              "      height: 32px;\n",
              "      padding: 0 0 0 0;\n",
              "      width: 32px;\n",
              "    }\n",
              "\n",
              "    .colab-df-convert:hover {\n",
              "      background-color: #E2EBFA;\n",
              "      box-shadow: 0px 1px 2px rgba(60, 64, 67, 0.3), 0px 1px 3px 1px rgba(60, 64, 67, 0.15);\n",
              "      fill: #174EA6;\n",
              "    }\n",
              "\n",
              "    [theme=dark] .colab-df-convert {\n",
              "      background-color: #3B4455;\n",
              "      fill: #D2E3FC;\n",
              "    }\n",
              "\n",
              "    [theme=dark] .colab-df-convert:hover {\n",
              "      background-color: #434B5C;\n",
              "      box-shadow: 0px 1px 3px 1px rgba(0, 0, 0, 0.15);\n",
              "      filter: drop-shadow(0px 1px 2px rgba(0, 0, 0, 0.3));\n",
              "      fill: #FFFFFF;\n",
              "    }\n",
              "  </style>\n",
              "\n",
              "      <script>\n",
              "        const buttonEl =\n",
              "          document.querySelector('#df-ce862f2f-8011-4966-adeb-4fd68cab392d button.colab-df-convert');\n",
              "        buttonEl.style.display =\n",
              "          google.colab.kernel.accessAllowed ? 'block' : 'none';\n",
              "\n",
              "        async function convertToInteractive(key) {\n",
              "          const element = document.querySelector('#df-ce862f2f-8011-4966-adeb-4fd68cab392d');\n",
              "          const dataTable =\n",
              "            await google.colab.kernel.invokeFunction('convertToInteractive',\n",
              "                                                     [key], {});\n",
              "          if (!dataTable) return;\n",
              "\n",
              "          const docLinkHtml = 'Like what you see? Visit the ' +\n",
              "            '<a target=\"_blank\" href=https://colab.research.google.com/notebooks/data_table.ipynb>data table notebook</a>'\n",
              "            + ' to learn more about interactive tables.';\n",
              "          element.innerHTML = '';\n",
              "          dataTable['output_type'] = 'display_data';\n",
              "          await google.colab.output.renderOutput(dataTable, element);\n",
              "          const docLink = document.createElement('div');\n",
              "          docLink.innerHTML = docLinkHtml;\n",
              "          element.appendChild(docLink);\n",
              "        }\n",
              "      </script>\n",
              "    </div>\n",
              "  </div>\n",
              "  "
            ]
          },
          "metadata": {},
          "execution_count": 11
        }
      ],
      "source": [
        "# Remove the years from the 'title' column\n",
        "movie['title'] = movie.title.str.replace('(\\(\\d\\d\\d\\d\\))', '')\n",
        "# Apply the strip function to get rid of any ending whitespace characters that may have appeared\n",
        "movie['title'] = movie['title'].str.strip()\n",
        "movie.head()"
      ]
    },
    {
      "cell_type": "code",
      "source": [
        "movie.isnull().sum()"
      ],
      "metadata": {
        "colab": {
          "base_uri": "https://localhost:8080/"
        },
        "id": "EjgggNXqPnW8",
        "outputId": "bcb4303f-904e-4561-e086-bbeff9274dcd"
      },
      "id": "EjgggNXqPnW8",
      "execution_count": 12,
      "outputs": [
        {
          "output_type": "execute_result",
          "data": {
            "text/plain": [
              "movieId     0\n",
              "title       0\n",
              "genres      0\n",
              "year       22\n",
              "dtype: int64"
            ]
          },
          "metadata": {},
          "execution_count": 12
        }
      ]
    },
    {
      "cell_type": "markdown",
      "source": [
        "Since there are 22 missing values for the year column, let us drop their corresponding rows."
      ],
      "metadata": {
        "id": "flX4hPbv9aLF"
      },
      "id": "flX4hPbv9aLF"
    },
    {
      "cell_type": "code",
      "source": [
        "movie['year'] = pd.to_numeric(movie['year'], errors='coerce')\n",
        "movie = movie.dropna()\n",
        "movie.info()"
      ],
      "metadata": {
        "colab": {
          "base_uri": "https://localhost:8080/"
        },
        "id": "tFAi1Ivn6AZe",
        "outputId": "d90849d4-c5f9-40e8-cfa4-d58afac38bbb"
      },
      "id": "tFAi1Ivn6AZe",
      "execution_count": 13,
      "outputs": [
        {
          "output_type": "stream",
          "name": "stdout",
          "text": [
            "<class 'pandas.core.frame.DataFrame'>\n",
            "Int64Index: 27256 entries, 0 to 27277\n",
            "Data columns (total 4 columns):\n",
            " #   Column   Non-Null Count  Dtype  \n",
            "---  ------   --------------  -----  \n",
            " 0   movieId  27256 non-null  int64  \n",
            " 1   title    27256 non-null  object \n",
            " 2   genres   27256 non-null  object \n",
            " 3   year     27256 non-null  float64\n",
            "dtypes: float64(1), int64(1), object(2)\n",
            "memory usage: 1.0+ MB\n"
          ]
        }
      ]
    },
    {
      "cell_type": "markdown",
      "source": [
        "### Rating dataset"
      ],
      "metadata": {
        "id": "KhEGylp86uWf"
      },
      "id": "KhEGylp86uWf"
    },
    {
      "cell_type": "markdown",
      "source": [
        "Let us explore the rating dataset."
      ],
      "metadata": {
        "id": "DIwF1kv1-ANO"
      },
      "id": "DIwF1kv1-ANO"
    },
    {
      "cell_type": "code",
      "source": [
        "rating.columns"
      ],
      "metadata": {
        "colab": {
          "base_uri": "https://localhost:8080/"
        },
        "id": "19YzhaN65l1a",
        "outputId": "21c912e0-4362-4eb6-bf14-ff131121f587"
      },
      "id": "19YzhaN65l1a",
      "execution_count": 14,
      "outputs": [
        {
          "output_type": "execute_result",
          "data": {
            "text/plain": [
              "Index(['userId', 'movieId', 'rating', 'timestamp'], dtype='object')"
            ]
          },
          "metadata": {},
          "execution_count": 14
        }
      ]
    },
    {
      "cell_type": "code",
      "source": [
        "rating.shape"
      ],
      "metadata": {
        "colab": {
          "base_uri": "https://localhost:8080/"
        },
        "id": "1cU7Vy-K5sBv",
        "outputId": "9e2cc4f4-4076-4f65-8980-191c378155c7"
      },
      "id": "1cU7Vy-K5sBv",
      "execution_count": 15,
      "outputs": [
        {
          "output_type": "execute_result",
          "data": {
            "text/plain": [
              "(20000263, 4)"
            ]
          },
          "metadata": {},
          "execution_count": 15
        }
      ]
    },
    {
      "cell_type": "code",
      "source": [
        "rating.dtypes"
      ],
      "metadata": {
        "colab": {
          "base_uri": "https://localhost:8080/"
        },
        "id": "JJ8WzniJ5sK5",
        "outputId": "c87f9f30-4355-42d2-91fe-25a27d1afa95"
      },
      "id": "JJ8WzniJ5sK5",
      "execution_count": 16,
      "outputs": [
        {
          "output_type": "execute_result",
          "data": {
            "text/plain": [
              "userId         int64\n",
              "movieId        int64\n",
              "rating       float64\n",
              "timestamp     object\n",
              "dtype: object"
            ]
          },
          "metadata": {},
          "execution_count": 16
        }
      ]
    },
    {
      "cell_type": "code",
      "source": [
        "rating.info()"
      ],
      "metadata": {
        "colab": {
          "base_uri": "https://localhost:8080/"
        },
        "id": "LJ0iZnSb5sRY",
        "outputId": "32c5ff7f-3d9d-49f6-ff5e-b9a0692b01f8"
      },
      "id": "LJ0iZnSb5sRY",
      "execution_count": 17,
      "outputs": [
        {
          "output_type": "stream",
          "name": "stdout",
          "text": [
            "<class 'pandas.core.frame.DataFrame'>\n",
            "RangeIndex: 20000263 entries, 0 to 20000262\n",
            "Data columns (total 4 columns):\n",
            " #   Column     Dtype  \n",
            "---  ------     -----  \n",
            " 0   userId     int64  \n",
            " 1   movieId    int64  \n",
            " 2   rating     float64\n",
            " 3   timestamp  object \n",
            "dtypes: float64(1), int64(2), object(1)\n",
            "memory usage: 610.4+ MB\n"
          ]
        }
      ]
    },
    {
      "cell_type": "code",
      "source": [
        "rating.head()"
      ],
      "metadata": {
        "colab": {
          "base_uri": "https://localhost:8080/",
          "height": 204
        },
        "id": "TnXCGGOW50B_",
        "outputId": "0d60855c-fb61-4a9f-bb98-2d14c60dc7d0"
      },
      "id": "TnXCGGOW50B_",
      "execution_count": 18,
      "outputs": [
        {
          "output_type": "execute_result",
          "data": {
            "text/plain": [
              "   userId  movieId  rating            timestamp\n",
              "0       1        2     3.5  2005-04-02 23:53:47\n",
              "1       1       29     3.5  2005-04-02 23:31:16\n",
              "2       1       32     3.5  2005-04-02 23:33:39\n",
              "3       1       47     3.5  2005-04-02 23:32:07\n",
              "4       1       50     3.5  2005-04-02 23:29:40"
            ],
            "text/html": [
              "\n",
              "  <div id=\"df-dec7b2c5-2bc9-4160-ad40-92398894be9a\">\n",
              "    <div class=\"colab-df-container\">\n",
              "      <div>\n",
              "<style scoped>\n",
              "    .dataframe tbody tr th:only-of-type {\n",
              "        vertical-align: middle;\n",
              "    }\n",
              "\n",
              "    .dataframe tbody tr th {\n",
              "        vertical-align: top;\n",
              "    }\n",
              "\n",
              "    .dataframe thead th {\n",
              "        text-align: right;\n",
              "    }\n",
              "</style>\n",
              "<table border=\"1\" class=\"dataframe\">\n",
              "  <thead>\n",
              "    <tr style=\"text-align: right;\">\n",
              "      <th></th>\n",
              "      <th>userId</th>\n",
              "      <th>movieId</th>\n",
              "      <th>rating</th>\n",
              "      <th>timestamp</th>\n",
              "    </tr>\n",
              "  </thead>\n",
              "  <tbody>\n",
              "    <tr>\n",
              "      <th>0</th>\n",
              "      <td>1</td>\n",
              "      <td>2</td>\n",
              "      <td>3.5</td>\n",
              "      <td>2005-04-02 23:53:47</td>\n",
              "    </tr>\n",
              "    <tr>\n",
              "      <th>1</th>\n",
              "      <td>1</td>\n",
              "      <td>29</td>\n",
              "      <td>3.5</td>\n",
              "      <td>2005-04-02 23:31:16</td>\n",
              "    </tr>\n",
              "    <tr>\n",
              "      <th>2</th>\n",
              "      <td>1</td>\n",
              "      <td>32</td>\n",
              "      <td>3.5</td>\n",
              "      <td>2005-04-02 23:33:39</td>\n",
              "    </tr>\n",
              "    <tr>\n",
              "      <th>3</th>\n",
              "      <td>1</td>\n",
              "      <td>47</td>\n",
              "      <td>3.5</td>\n",
              "      <td>2005-04-02 23:32:07</td>\n",
              "    </tr>\n",
              "    <tr>\n",
              "      <th>4</th>\n",
              "      <td>1</td>\n",
              "      <td>50</td>\n",
              "      <td>3.5</td>\n",
              "      <td>2005-04-02 23:29:40</td>\n",
              "    </tr>\n",
              "  </tbody>\n",
              "</table>\n",
              "</div>\n",
              "      <button class=\"colab-df-convert\" onclick=\"convertToInteractive('df-dec7b2c5-2bc9-4160-ad40-92398894be9a')\"\n",
              "              title=\"Convert this dataframe to an interactive table.\"\n",
              "              style=\"display:none;\">\n",
              "        \n",
              "  <svg xmlns=\"http://www.w3.org/2000/svg\" height=\"24px\"viewBox=\"0 0 24 24\"\n",
              "       width=\"24px\">\n",
              "    <path d=\"M0 0h24v24H0V0z\" fill=\"none\"/>\n",
              "    <path d=\"M18.56 5.44l.94 2.06.94-2.06 2.06-.94-2.06-.94-.94-2.06-.94 2.06-2.06.94zm-11 1L8.5 8.5l.94-2.06 2.06-.94-2.06-.94L8.5 2.5l-.94 2.06-2.06.94zm10 10l.94 2.06.94-2.06 2.06-.94-2.06-.94-.94-2.06-.94 2.06-2.06.94z\"/><path d=\"M17.41 7.96l-1.37-1.37c-.4-.4-.92-.59-1.43-.59-.52 0-1.04.2-1.43.59L10.3 9.45l-7.72 7.72c-.78.78-.78 2.05 0 2.83L4 21.41c.39.39.9.59 1.41.59.51 0 1.02-.2 1.41-.59l7.78-7.78 2.81-2.81c.8-.78.8-2.07 0-2.86zM5.41 20L4 18.59l7.72-7.72 1.47 1.35L5.41 20z\"/>\n",
              "  </svg>\n",
              "      </button>\n",
              "      \n",
              "  <style>\n",
              "    .colab-df-container {\n",
              "      display:flex;\n",
              "      flex-wrap:wrap;\n",
              "      gap: 12px;\n",
              "    }\n",
              "\n",
              "    .colab-df-convert {\n",
              "      background-color: #E8F0FE;\n",
              "      border: none;\n",
              "      border-radius: 50%;\n",
              "      cursor: pointer;\n",
              "      display: none;\n",
              "      fill: #1967D2;\n",
              "      height: 32px;\n",
              "      padding: 0 0 0 0;\n",
              "      width: 32px;\n",
              "    }\n",
              "\n",
              "    .colab-df-convert:hover {\n",
              "      background-color: #E2EBFA;\n",
              "      box-shadow: 0px 1px 2px rgba(60, 64, 67, 0.3), 0px 1px 3px 1px rgba(60, 64, 67, 0.15);\n",
              "      fill: #174EA6;\n",
              "    }\n",
              "\n",
              "    [theme=dark] .colab-df-convert {\n",
              "      background-color: #3B4455;\n",
              "      fill: #D2E3FC;\n",
              "    }\n",
              "\n",
              "    [theme=dark] .colab-df-convert:hover {\n",
              "      background-color: #434B5C;\n",
              "      box-shadow: 0px 1px 3px 1px rgba(0, 0, 0, 0.15);\n",
              "      filter: drop-shadow(0px 1px 2px rgba(0, 0, 0, 0.3));\n",
              "      fill: #FFFFFF;\n",
              "    }\n",
              "  </style>\n",
              "\n",
              "      <script>\n",
              "        const buttonEl =\n",
              "          document.querySelector('#df-dec7b2c5-2bc9-4160-ad40-92398894be9a button.colab-df-convert');\n",
              "        buttonEl.style.display =\n",
              "          google.colab.kernel.accessAllowed ? 'block' : 'none';\n",
              "\n",
              "        async function convertToInteractive(key) {\n",
              "          const element = document.querySelector('#df-dec7b2c5-2bc9-4160-ad40-92398894be9a');\n",
              "          const dataTable =\n",
              "            await google.colab.kernel.invokeFunction('convertToInteractive',\n",
              "                                                     [key], {});\n",
              "          if (!dataTable) return;\n",
              "\n",
              "          const docLinkHtml = 'Like what you see? Visit the ' +\n",
              "            '<a target=\"_blank\" href=https://colab.research.google.com/notebooks/data_table.ipynb>data table notebook</a>'\n",
              "            + ' to learn more about interactive tables.';\n",
              "          element.innerHTML = '';\n",
              "          dataTable['output_type'] = 'display_data';\n",
              "          await google.colab.output.renderOutput(dataTable, element);\n",
              "          const docLink = document.createElement('div');\n",
              "          docLink.innerHTML = docLinkHtml;\n",
              "          element.appendChild(docLink);\n",
              "        }\n",
              "      </script>\n",
              "    </div>\n",
              "  </div>\n",
              "  "
            ]
          },
          "metadata": {},
          "execution_count": 18
        }
      ]
    },
    {
      "cell_type": "code",
      "source": [
        "rating.isnull().sum()"
      ],
      "metadata": {
        "colab": {
          "base_uri": "https://localhost:8080/"
        },
        "id": "YKSWNjhq50IQ",
        "outputId": "8dc40c3f-e0dd-4a63-e9dc-7b6e44f4bb67"
      },
      "id": "YKSWNjhq50IQ",
      "execution_count": 19,
      "outputs": [
        {
          "output_type": "execute_result",
          "data": {
            "text/plain": [
              "userId       0\n",
              "movieId      0\n",
              "rating       0\n",
              "timestamp    0\n",
              "dtype: int64"
            ]
          },
          "metadata": {},
          "execution_count": 19
        }
      ]
    },
    {
      "cell_type": "markdown",
      "source": [
        "We convert the datatype of timestamp column to datetime."
      ],
      "metadata": {
        "id": "zRuSDJq3-FIA"
      },
      "id": "zRuSDJq3-FIA"
    },
    {
      "cell_type": "code",
      "source": [
        "rating['timestamp'] = rating['timestamp'].apply(pd.to_datetime)"
      ],
      "metadata": {
        "id": "LTNmwdd_50Q0"
      },
      "id": "LTNmwdd_50Q0",
      "execution_count": 20,
      "outputs": []
    },
    {
      "cell_type": "code",
      "source": [
        "rating.info()"
      ],
      "metadata": {
        "colab": {
          "base_uri": "https://localhost:8080/"
        },
        "id": "mPCUOHdJ50T8",
        "outputId": "2960908f-70d8-4508-f2d5-eaf4ba13b2ab"
      },
      "id": "mPCUOHdJ50T8",
      "execution_count": 21,
      "outputs": [
        {
          "output_type": "stream",
          "name": "stdout",
          "text": [
            "<class 'pandas.core.frame.DataFrame'>\n",
            "RangeIndex: 20000263 entries, 0 to 20000262\n",
            "Data columns (total 4 columns):\n",
            " #   Column     Dtype         \n",
            "---  ------     -----         \n",
            " 0   userId     int64         \n",
            " 1   movieId    int64         \n",
            " 2   rating     float64       \n",
            " 3   timestamp  datetime64[ns]\n",
            "dtypes: datetime64[ns](1), float64(1), int64(2)\n",
            "memory usage: 610.4 MB\n"
          ]
        }
      ]
    },
    {
      "cell_type": "markdown",
      "source": [
        "## Data Exploration"
      ],
      "metadata": {
        "id": "lQM0zBgyOIoc"
      },
      "id": "lQM0zBgyOIoc"
    },
    {
      "cell_type": "markdown",
      "source": [
        "**How many movies were released per year?**"
      ],
      "metadata": {
        "id": "btlSjPjh84Hd"
      },
      "id": "btlSjPjh84Hd"
    },
    {
      "cell_type": "code",
      "source": [
        "plt.style.use('fivethirtyeight')\n",
        "sns.set_palette(\"colorblind\")\n",
        "plt.figure(figsize=(12,7))\n",
        "yearly_release_counts = movie.groupby(movie.year).size().sort_values(ascending=False)\n",
        "sns.lineplot(yearly_release_counts.index, yearly_release_counts.values);\n",
        "plt.xlabel('Release Year');"
      ],
      "metadata": {
        "id": "4T3isMs1OL5w",
        "colab": {
          "base_uri": "https://localhost:8080/",
          "height": 533
        },
        "outputId": "b51a179c-9562-44ba-f9b8-b1f457a5235c"
      },
      "id": "4T3isMs1OL5w",
      "execution_count": 22,
      "outputs": [
        {
          "output_type": "stream",
          "name": "stderr",
          "text": [
            "/usr/local/lib/python3.7/dist-packages/seaborn/_decorators.py:43: FutureWarning: Pass the following variables as keyword args: x, y. From version 0.12, the only valid positional argument will be `data`, and passing other arguments without an explicit keyword will result in an error or misinterpretation.\n",
            "  FutureWarning\n"
          ]
        },
        {
          "output_type": "display_data",
          "data": {
            "text/plain": [
              "<Figure size 864x504 with 1 Axes>"
            ],
            "image/png": "[encoded data removed]"
          },
          "metadata": {}
        }
      ]
    },
    {
      "cell_type": "markdown",
      "source": [
        "**How many movies were rated per year?**"
      ],
      "metadata": {
        "id": "TM1GnS9yFNvp"
      },
      "id": "TM1GnS9yFNvp"
    },
    {
      "cell_type": "code",
      "source": [
        "plt.style.use('fivethirtyeight')\n",
        "sns.set_palette(\"colorblind\")\n",
        "plt.figure(figsize=(15,7))\n",
        "yearly_rating_counts = rating.groupby(rating.timestamp.dt.year).size().sort_values(ascending=False)\n",
        "sns.lineplot(yearly_rating_counts.index, yearly_rating_counts.values);\n",
        "plt.xlabel('Rating Year');"
      ],
      "metadata": {
        "colab": {
          "base_uri": "https://localhost:8080/",
          "height": 547
        },
        "id": "vKriIXGvE8tn",
        "outputId": "5832308e-dc19-4aec-cb25-02a39fd1dbb0"
      },
      "id": "vKriIXGvE8tn",
      "execution_count": 23,
      "outputs": [
        {
          "output_type": "stream",
          "name": "stderr",
          "text": [
            "/usr/local/lib/python3.7/dist-packages/seaborn/_decorators.py:43: FutureWarning: Pass the following variables as keyword args: x, y. From version 0.12, the only valid positional argument will be `data`, and passing other arguments without an explicit keyword will result in an error or misinterpretation.\n",
            "  FutureWarning\n"
          ]
        },
        {
          "output_type": "display_data",
          "data": {
            "text/plain": [
              "<Figure size 1080x504 with 1 Axes>"
            ],
            "image/png": "[encoded data removed]"
          },
          "metadata": {}
        }
      ]
    },
    {
      "cell_type": "markdown",
      "source": [
        "**What are the genres of the movies?**"
      ],
      "metadata": {
        "id": "T6HUV7gH9CUT"
      },
      "id": "T6HUV7gH9CUT"
    },
    {
      "cell_type": "code",
      "source": [
        "genre_df = movie['genres'].str.get_dummies()\n",
        "movie_genre = pd.merge(movie, genre_df, left_on=None, right_on=None, left_index=True, right_index=True)\n",
        "movie_genre = movie_genre.drop(columns=['genres', '(no genres listed)', 'movieId', 'IMAX'])\n",
        "movie_genre.head()"
      ],
      "metadata": {
        "id": "MhO3fL7aOLwn",
        "colab": {
          "base_uri": "https://localhost:8080/",
          "height": 353
        },
        "outputId": "ecbddf15-2b09-40c4-9806-3fbd469392ae"
      },
      "id": "MhO3fL7aOLwn",
      "execution_count": 24,
      "outputs": [
        {
          "output_type": "execute_result",
          "data": {
            "text/plain": [
              "                         title    year  Action  Adventure  Animation  \\\n",
              "0                    Toy Story  1995.0       0          1          1   \n",
              "1                      Jumanji  1995.0       0          1          0   \n",
              "2             Grumpier Old Men  1995.0       0          0          0   \n",
              "3            Waiting to Exhale  1995.0       0          0          0   \n",
              "4  Father of the Bride Part II  1995.0       0          0          0   \n",
              "\n",
              "   Children  Comedy  Crime  Documentary  Drama  Fantasy  Film-Noir  Horror  \\\n",
              "0         1       1      0            0      0        1          0       0   \n",
              "1         1       0      0            0      0        1          0       0   \n",
              "2         0       1      0            0      0        0          0       0   \n",
              "3         0       1      0            0      1        0          0       0   \n",
              "4         0       1      0            0      0        0          0       0   \n",
              "\n",
              "   Musical  Mystery  Romance  Sci-Fi  Thriller  War  Western  \n",
              "0        0        0        0       0         0    0        0  \n",
              "1        0        0        0       0         0    0        0  \n",
              "2        0        0        1       0         0    0        0  \n",
              "3        0        0        1       0         0    0        0  \n",
              "4        0        0        0       0         0    0        0  "
            ],
            "text/html": [
              "\n",
              "  <div id=\"df-7a30ec97-4061-4ed3-b0e2-70f479961a6f\">\n",
              "    <div class=\"colab-df-container\">\n",
              "      <div>\n",
              "<style scoped>\n",
              "    .dataframe tbody tr th:only-of-type {\n",
              "        vertical-align: middle;\n",
              "    }\n",
              "\n",
              "    .dataframe tbody tr th {\n",
              "        vertical-align: top;\n",
              "    }\n",
              "\n",
              "    .dataframe thead th {\n",
              "        text-align: right;\n",
              "    }\n",
              "</style>\n",
              "<table border=\"1\" class=\"dataframe\">\n",
              "  <thead>\n",
              "    <tr style=\"text-align: right;\">\n",
              "      <th></th>\n",
              "      <th>title</th>\n",
              "      <th>year</th>\n",
              "      <th>Action</th>\n",
              "      <th>Adventure</th>\n",
              "      <th>Animation</th>\n",
              "      <th>Children</th>\n",
              "      <th>Comedy</th>\n",
              "      <th>Crime</th>\n",
              "      <th>Documentary</th>\n",
              "      <th>Drama</th>\n",
              "      <th>Fantasy</th>\n",
              "      <th>Film-Noir</th>\n",
              "      <th>Horror</th>\n",
              "      <th>Musical</th>\n",
              "      <th>Mystery</th>\n",
              "      <th>Romance</th>\n",
              "      <th>Sci-Fi</th>\n",
              "      <th>Thriller</th>\n",
              "      <th>War</th>\n",
              "      <th>Western</th>\n",
              "    </tr>\n",
              "  </thead>\n",
              "  <tbody>\n",
              "    <tr>\n",
              "      <th>0</th>\n",
              "      <td>Toy Story</td>\n",
              "      <td>1995.0</td>\n",
              "      <td>0</td>\n",
              "      <td>1</td>\n",
              "      <td>1</td>\n",
              "      <td>1</td>\n",
              "      <td>1</td>\n",
              "      <td>0</td>\n",
              "      <td>0</td>\n",
              "      <td>0</td>\n",
              "      <td>1</td>\n",
              "      <td>0</td>\n",
              "      <td>0</td>\n",
              "      <td>0</td>\n",
              "      <td>0</td>\n",
              "      <td>0</td>\n",
              "      <td>0</td>\n",
              "      <td>0</td>\n",
              "      <td>0</td>\n",
              "      <td>0</td>\n",
              "    </tr>\n",
              "    <tr>\n",
              "      <th>1</th>\n",
              "      <td>Jumanji</td>\n",
              "      <td>1995.0</td>\n",
              "      <td>0</td>\n",
              "      <td>1</td>\n",
              "      <td>0</td>\n",
              "      <td>1</td>\n",
              "      <td>0</td>\n",
              "      <td>0</td>\n",
              "      <td>0</td>\n",
              "      <td>0</td>\n",
              "      <td>1</td>\n",
              "      <td>0</td>\n",
              "      <td>0</td>\n",
              "      <td>0</td>\n",
              "      <td>0</td>\n",
              "      <td>0</td>\n",
              "      <td>0</td>\n",
              "      <td>0</td>\n",
              "      <td>0</td>\n",
              "      <td>0</td>\n",
              "    </tr>\n",
              "    <tr>\n",
              "      <th>2</th>\n",
              "      <td>Grumpier Old Men</td>\n",
              "      <td>1995.0</td>\n",
              "      <td>0</td>\n",
              "      <td>0</td>\n",
              "      <td>0</td>\n",
              "      <td>0</td>\n",
              "      <td>1</td>\n",
              "      <td>0</td>\n",
              "      <td>0</td>\n",
              "      <td>0</td>\n",
              "      <td>0</td>\n",
              "      <td>0</td>\n",
              "      <td>0</td>\n",
              "      <td>0</td>\n",
              "      <td>0</td>\n",
              "      <td>1</td>\n",
              "      <td>0</td>\n",
              "      <td>0</td>\n",
              "      <td>0</td>\n",
              "      <td>0</td>\n",
              "    </tr>\n",
              "    <tr>\n",
              "      <th>3</th>\n",
              "      <td>Waiting to Exhale</td>\n",
              "      <td>1995.0</td>\n",
              "      <td>0</td>\n",
              "      <td>0</td>\n",
              "      <td>0</td>\n",
              "      <td>0</td>\n",
              "      <td>1</td>\n",
              "      <td>0</td>\n",
              "      <td>0</td>\n",
              "      <td>1</td>\n",
              "      <td>0</td>\n",
              "      <td>0</td>\n",
              "      <td>0</td>\n",
              "      <td>0</td>\n",
              "      <td>0</td>\n",
              "      <td>1</td>\n",
              "      <td>0</td>\n",
              "      <td>0</td>\n",
              "      <td>0</td>\n",
              "      <td>0</td>\n",
              "    </tr>\n",
              "    <tr>\n",
              "      <th>4</th>\n",
              "      <td>Father of the Bride Part II</td>\n",
              "      <td>1995.0</td>\n",
              "      <td>0</td>\n",
              "      <td>0</td>\n",
              "      <td>0</td>\n",
              "      <td>0</td>\n",
              "      <td>1</td>\n",
              "      <td>0</td>\n",
              "      <td>0</td>\n",
              "      <td>0</td>\n",
              "      <td>0</td>\n",
              "      <td>0</td>\n",
              "      <td>0</td>\n",
              "      <td>0</td>\n",
              "      <td>0</td>\n",
              "      <td>0</td>\n",
              "      <td>0</td>\n",
              "      <td>0</td>\n",
              "      <td>0</td>\n",
              "      <td>0</td>\n",
              "    </tr>\n",
              "  </tbody>\n",
              "</table>\n",
              "</div>\n",
              "      <button class=\"colab-df-convert\" onclick=\"convertToInteractive('df-7a30ec97-4061-4ed3-b0e2-70f479961a6f')\"\n",
              "              title=\"Convert this dataframe to an interactive table.\"\n",
              "              style=\"display:none;\">\n",
              "        \n",
              "  <svg xmlns=\"http://www.w3.org/2000/svg\" height=\"24px\"viewBox=\"0 0 24 24\"\n",
              "       width=\"24px\">\n",
              "    <path d=\"M0 0h24v24H0V0z\" fill=\"none\"/>\n",
              "    <path d=\"M18.56 5.44l.94 2.06.94-2.06 2.06-.94-2.06-.94-.94-2.06-.94 2.06-2.06.94zm-11 1L8.5 8.5l.94-2.06 2.06-.94-2.06-.94L8.5 2.5l-.94 2.06-2.06.94zm10 10l.94 2.06.94-2.06 2.06-.94-2.06-.94-.94-2.06-.94 2.06-2.06.94z\"/><path d=\"M17.41 7.96l-1.37-1.37c-.4-.4-.92-.59-1.43-.59-.52 0-1.04.2-1.43.59L10.3 9.45l-7.72 7.72c-.78.78-.78 2.05 0 2.83L4 21.41c.39.39.9.59 1.41.59.51 0 1.02-.2 1.41-.59l7.78-7.78 2.81-2.81c.8-.78.8-2.07 0-2.86zM5.41 20L4 18.59l7.72-7.72 1.47 1.35L5.41 20z\"/>\n",
              "  </svg>\n",
              "      </button>\n",
              "      \n",
              "  <style>\n",
              "    .colab-df-container {\n",
              "      display:flex;\n",
              "      flex-wrap:wrap;\n",
              "      gap: 12px;\n",
              "    }\n",
              "\n",
              "    .colab-df-convert {\n",
              "      background-color: #E8F0FE;\n",
              "      border: none;\n",
              "      border-radius: 50%;\n",
              "      cursor: pointer;\n",
              "      display: none;\n",
              "      fill: #1967D2;\n",
              "      height: 32px;\n",
              "      padding: 0 0 0 0;\n",
              "      width: 32px;\n",
              "    }\n",
              "\n",
              "    .colab-df-convert:hover {\n",
              "      background-color: #E2EBFA;\n",
              "      box-shadow: 0px 1px 2px rgba(60, 64, 67, 0.3), 0px 1px 3px 1px rgba(60, 64, 67, 0.15);\n",
              "      fill: #174EA6;\n",
              "    }\n",
              "\n",
              "    [theme=dark] .colab-df-convert {\n",
              "      background-color: #3B4455;\n",
              "      fill: #D2E3FC;\n",
              "    }\n",
              "\n",
              "    [theme=dark] .colab-df-convert:hover {\n",
              "      background-color: #434B5C;\n",
              "      box-shadow: 0px 1px 3px 1px rgba(0, 0, 0, 0.15);\n",
              "      filter: drop-shadow(0px 1px 2px rgba(0, 0, 0, 0.3));\n",
              "      fill: #FFFFFF;\n",
              "    }\n",
              "  </style>\n",
              "\n",
              "      <script>\n",
              "        const buttonEl =\n",
              "          document.querySelector('#df-7a30ec97-4061-4ed3-b0e2-70f479961a6f button.colab-df-convert');\n",
              "        buttonEl.style.display =\n",
              "          google.colab.kernel.accessAllowed ? 'block' : 'none';\n",
              "\n",
              "        async function convertToInteractive(key) {\n",
              "          const element = document.querySelector('#df-7a30ec97-4061-4ed3-b0e2-70f479961a6f');\n",
              "          const dataTable =\n",
              "            await google.colab.kernel.invokeFunction('convertToInteractive',\n",
              "                                                     [key], {});\n",
              "          if (!dataTable) return;\n",
              "\n",
              "          const docLinkHtml = 'Like what you see? Visit the ' +\n",
              "            '<a target=\"_blank\" href=https://colab.research.google.com/notebooks/data_table.ipynb>data table notebook</a>'\n",
              "            + ' to learn more about interactive tables.';\n",
              "          element.innerHTML = '';\n",
              "          dataTable['output_type'] = 'display_data';\n",
              "          await google.colab.output.renderOutput(dataTable, element);\n",
              "          const docLink = document.createElement('div');\n",
              "          docLink.innerHTML = docLinkHtml;\n",
              "          element.appendChild(docLink);\n",
              "        }\n",
              "      </script>\n",
              "    </div>\n",
              "  </div>\n",
              "  "
            ]
          },
          "metadata": {},
          "execution_count": 24
        }
      ]
    },
    {
      "cell_type": "code",
      "source": [
        "genres = ['Action', 'Adventure', 'Animation', 'Children', 'Comedy', \n",
        "           'Crime', 'Documentary','Drama', 'Fantasy', 'Film-Noir', \n",
        "           'Horror', 'Musical', 'Mystery','Romance', 'Sci-Fi', \n",
        "           'Thriller', 'War', 'Western']\n",
        "plt.style.use('fivethirtyeight')\n",
        "sns.set_palette(\"colorblind\")\n",
        "plt.figure(figsize=(12,7))\n",
        "genre_counts = movie_genre.loc[:,genres].sum().sort_values(ascending=False)\n",
        "sns.barplot(x=genre_counts.index, y=genre_counts.values)\n",
        "plt.xticks(rotation=60);"
      ],
      "metadata": {
        "id": "m0V1OaSMOL2o",
        "colab": {
          "base_uri": "https://localhost:8080/",
          "height": 537
        },
        "outputId": "50df29dc-eba4-42fc-8fc3-1f8eb8c8c350"
      },
      "id": "m0V1OaSMOL2o",
      "execution_count": 25,
      "outputs": [
        {
          "output_type": "display_data",
          "data": {
            "text/plain": [
              "<Figure size 864x504 with 1 Axes>"
            ],
            "image/png": "[encoded data removed]"
          },
          "metadata": {}
        }
      ]
    },
    {
      "cell_type": "markdown",
      "id": "f2bc4ed1",
      "metadata": {
        "id": "f2bc4ed1"
      },
      "source": [
        "Next, we will merge the dataframes movie and rating to get more insights."
      ]
    },
    {
      "cell_type": "code",
      "execution_count": 26,
      "id": "25acf5f5",
      "metadata": {
        "colab": {
          "base_uri": "https://localhost:8080/",
          "height": 204
        },
        "id": "25acf5f5",
        "outputId": "4edd243f-0acf-4974-8b58-eca0d8ea4c12"
      },
      "outputs": [
        {
          "output_type": "execute_result",
          "data": {
            "text/plain": [
              "   userId  movieId  rating           timestamp    title  \\\n",
              "0       1        2     3.5 2005-04-02 23:53:47  Jumanji   \n",
              "1       5        2     3.0 1996-12-25 15:26:09  Jumanji   \n",
              "2      13        2     3.0 1996-11-27 08:19:02  Jumanji   \n",
              "3      29        2     3.0 1996-06-23 20:36:14  Jumanji   \n",
              "4      34        2     3.0 1996-10-28 13:29:44  Jumanji   \n",
              "\n",
              "                       genres    year  \n",
              "0  Adventure|Children|Fantasy  1995.0  \n",
              "1  Adventure|Children|Fantasy  1995.0  \n",
              "2  Adventure|Children|Fantasy  1995.0  \n",
              "3  Adventure|Children|Fantasy  1995.0  \n",
              "4  Adventure|Children|Fantasy  1995.0  "
            ],
            "text/html": [
              "\n",
              "  <div id=\"df-d0447cf5-9743-4cd8-a050-60d540af041e\">\n",
              "    <div class=\"colab-df-container\">\n",
              "      <div>\n",
              "<style scoped>\n",
              "    .dataframe tbody tr th:only-of-type {\n",
              "        vertical-align: middle;\n",
              "    }\n",
              "\n",
              "    .dataframe tbody tr th {\n",
              "        vertical-align: top;\n",
              "    }\n",
              "\n",
              "    .dataframe thead th {\n",
              "        text-align: right;\n",
              "    }\n",
              "</style>\n",
              "<table border=\"1\" class=\"dataframe\">\n",
              "  <thead>\n",
              "    <tr style=\"text-align: right;\">\n",
              "      <th></th>\n",
              "      <th>userId</th>\n",
              "      <th>movieId</th>\n",
              "      <th>rating</th>\n",
              "      <th>timestamp</th>\n",
              "      <th>title</th>\n",
              "      <th>genres</th>\n",
              "      <th>year</th>\n",
              "    </tr>\n",
              "  </thead>\n",
              "  <tbody>\n",
              "    <tr>\n",
              "      <th>0</th>\n",
              "      <td>1</td>\n",
              "      <td>2</td>\n",
              "      <td>3.5</td>\n",
              "      <td>2005-04-02 23:53:47</td>\n",
              "      <td>Jumanji</td>\n",
              "      <td>Adventure|Children|Fantasy</td>\n",
              "      <td>1995.0</td>\n",
              "    </tr>\n",
              "    <tr>\n",
              "      <th>1</th>\n",
              "      <td>5</td>\n",
              "      <td>2</td>\n",
              "      <td>3.0</td>\n",
              "      <td>1996-12-25 15:26:09</td>\n",
              "      <td>Jumanji</td>\n",
              "      <td>Adventure|Children|Fantasy</td>\n",
              "      <td>1995.0</td>\n",
              "    </tr>\n",
              "    <tr>\n",
              "      <th>2</th>\n",
              "      <td>13</td>\n",
              "      <td>2</td>\n",
              "      <td>3.0</td>\n",
              "      <td>1996-11-27 08:19:02</td>\n",
              "      <td>Jumanji</td>\n",
              "      <td>Adventure|Children|Fantasy</td>\n",
              "      <td>1995.0</td>\n",
              "    </tr>\n",
              "    <tr>\n",
              "      <th>3</th>\n",
              "      <td>29</td>\n",
              "      <td>2</td>\n",
              "      <td>3.0</td>\n",
              "      <td>1996-06-23 20:36:14</td>\n",
              "      <td>Jumanji</td>\n",
              "      <td>Adventure|Children|Fantasy</td>\n",
              "      <td>1995.0</td>\n",
              "    </tr>\n",
              "    <tr>\n",
              "      <th>4</th>\n",
              "      <td>34</td>\n",
              "      <td>2</td>\n",
              "      <td>3.0</td>\n",
              "      <td>1996-10-28 13:29:44</td>\n",
              "      <td>Jumanji</td>\n",
              "      <td>Adventure|Children|Fantasy</td>\n",
              "      <td>1995.0</td>\n",
              "    </tr>\n",
              "  </tbody>\n",
              "</table>\n",
              "</div>\n",
              "      <button class=\"colab-df-convert\" onclick=\"convertToInteractive('df-d0447cf5-9743-4cd8-a050-60d540af041e')\"\n",
              "              title=\"Convert this dataframe to an interactive table.\"\n",
              "              style=\"display:none;\">\n",
              "        \n",
              "  <svg xmlns=\"http://www.w3.org/2000/svg\" height=\"24px\"viewBox=\"0 0 24 24\"\n",
              "       width=\"24px\">\n",
              "    <path d=\"M0 0h24v24H0V0z\" fill=\"none\"/>\n",
              "    <path d=\"M18.56 5.44l.94 2.06.94-2.06 2.06-.94-2.06-.94-.94-2.06-.94 2.06-2.06.94zm-11 1L8.5 8.5l.94-2.06 2.06-.94-2.06-.94L8.5 2.5l-.94 2.06-2.06.94zm10 10l.94 2.06.94-2.06 2.06-.94-2.06-.94-.94-2.06-.94 2.06-2.06.94z\"/><path d=\"M17.41 7.96l-1.37-1.37c-.4-.4-.92-.59-1.43-.59-.52 0-1.04.2-1.43.59L10.3 9.45l-7.72 7.72c-.78.78-.78 2.05 0 2.83L4 21.41c.39.39.9.59 1.41.59.51 0 1.02-.2 1.41-.59l7.78-7.78 2.81-2.81c.8-.78.8-2.07 0-2.86zM5.41 20L4 18.59l7.72-7.72 1.47 1.35L5.41 20z\"/>\n",
              "  </svg>\n",
              "      </button>\n",
              "      \n",
              "  <style>\n",
              "    .colab-df-container {\n",
              "      display:flex;\n",
              "      flex-wrap:wrap;\n",
              "      gap: 12px;\n",
              "    }\n",
              "\n",
              "    .colab-df-convert {\n",
              "      background-color: #E8F0FE;\n",
              "      border: none;\n",
              "      border-radius: 50%;\n",
              "      cursor: pointer;\n",
              "      display: none;\n",
              "      fill: #1967D2;\n",
              "      height: 32px;\n",
              "      padding: 0 0 0 0;\n",
              "      width: 32px;\n",
              "    }\n",
              "\n",
              "    .colab-df-convert:hover {\n",
              "      background-color: #E2EBFA;\n",
              "      box-shadow: 0px 1px 2px rgba(60, 64, 67, 0.3), 0px 1px 3px 1px rgba(60, 64, 67, 0.15);\n",
              "      fill: #174EA6;\n",
              "    }\n",
              "\n",
              "    [theme=dark] .colab-df-convert {\n",
              "      background-color: #3B4455;\n",
              "      fill: #D2E3FC;\n",
              "    }\n",
              "\n",
              "    [theme=dark] .colab-df-convert:hover {\n",
              "      background-color: #434B5C;\n",
              "      box-shadow: 0px 1px 3px 1px rgba(0, 0, 0, 0.15);\n",
              "      filter: drop-shadow(0px 1px 2px rgba(0, 0, 0, 0.3));\n",
              "      fill: #FFFFFF;\n",
              "    }\n",
              "  </style>\n",
              "\n",
              "      <script>\n",
              "        const buttonEl =\n",
              "          document.querySelector('#df-d0447cf5-9743-4cd8-a050-60d540af041e button.colab-df-convert');\n",
              "        buttonEl.style.display =\n",
              "          google.colab.kernel.accessAllowed ? 'block' : 'none';\n",
              "\n",
              "        async function convertToInteractive(key) {\n",
              "          const element = document.querySelector('#df-d0447cf5-9743-4cd8-a050-60d540af041e');\n",
              "          const dataTable =\n",
              "            await google.colab.kernel.invokeFunction('convertToInteractive',\n",
              "                                                     [key], {});\n",
              "          if (!dataTable) return;\n",
              "\n",
              "          const docLinkHtml = 'Like what you see? Visit the ' +\n",
              "            '<a target=\"_blank\" href=https://colab.research.google.com/notebooks/data_table.ipynb>data table notebook</a>'\n",
              "            + ' to learn more about interactive tables.';\n",
              "          element.innerHTML = '';\n",
              "          dataTable['output_type'] = 'display_data';\n",
              "          await google.colab.output.renderOutput(dataTable, element);\n",
              "          const docLink = document.createElement('div');\n",
              "          docLink.innerHTML = docLinkHtml;\n",
              "          element.appendChild(docLink);\n",
              "        }\n",
              "      </script>\n",
              "    </div>\n",
              "  </div>\n",
              "  "
            ]
          },
          "metadata": {},
          "execution_count": 26
        }
      ],
      "source": [
        "# Combine the two dataframes rating and movie into one dataframe movie_rating\n",
        "movie_rating = pd.merge(rating,movie,on='movieId')\n",
        "movie_rating.head()"
      ]
    },
    {
      "cell_type": "markdown",
      "id": "6607f3c6",
      "metadata": {
        "id": "6607f3c6"
      },
      "source": [
        "Let us look at the average rating of the movies."
      ]
    },
    {
      "cell_type": "code",
      "execution_count": 27,
      "id": "71dbe1fc",
      "metadata": {
        "colab": {
          "base_uri": "https://localhost:8080/",
          "height": 204
        },
        "id": "71dbe1fc",
        "outputId": "d9e0798d-c25f-4dd3-d8b4-ea6a88d21b28"
      },
      "outputs": [
        {
          "output_type": "execute_result",
          "data": {
            "text/plain": [
              "                                               title  avg_movie_rating\n",
              "0  #chicagoGirl: The Social Network Takes on a Di...          3.666667\n",
              "1                                        $ (Dollars)          2.833333\n",
              "2                                           $5 a Day          2.871795\n",
              "3                                              $9.99          3.009091\n",
              "4                            $ellebrity (Sellebrity)          2.000000"
            ],
            "text/html": [
              "\n",
              "  <div id=\"df-66501173-c15f-4173-a20b-ac7523202771\">\n",
              "    <div class=\"colab-df-container\">\n",
              "      <div>\n",
              "<style scoped>\n",
              "    .dataframe tbody tr th:only-of-type {\n",
              "        vertical-align: middle;\n",
              "    }\n",
              "\n",
              "    .dataframe tbody tr th {\n",
              "        vertical-align: top;\n",
              "    }\n",
              "\n",
              "    .dataframe thead th {\n",
              "        text-align: right;\n",
              "    }\n",
              "</style>\n",
              "<table border=\"1\" class=\"dataframe\">\n",
              "  <thead>\n",
              "    <tr style=\"text-align: right;\">\n",
              "      <th></th>\n",
              "      <th>title</th>\n",
              "      <th>avg_movie_rating</th>\n",
              "    </tr>\n",
              "  </thead>\n",
              "  <tbody>\n",
              "    <tr>\n",
              "      <th>0</th>\n",
              "      <td>#chicagoGirl: The Social Network Takes on a Di...</td>\n",
              "      <td>3.666667</td>\n",
              "    </tr>\n",
              "    <tr>\n",
              "      <th>1</th>\n",
              "      <td>$ (Dollars)</td>\n",
              "      <td>2.833333</td>\n",
              "    </tr>\n",
              "    <tr>\n",
              "      <th>2</th>\n",
              "      <td>$5 a Day</td>\n",
              "      <td>2.871795</td>\n",
              "    </tr>\n",
              "    <tr>\n",
              "      <th>3</th>\n",
              "      <td>$9.99</td>\n",
              "      <td>3.009091</td>\n",
              "    </tr>\n",
              "    <tr>\n",
              "      <th>4</th>\n",
              "      <td>$ellebrity (Sellebrity)</td>\n",
              "      <td>2.000000</td>\n",
              "    </tr>\n",
              "  </tbody>\n",
              "</table>\n",
              "</div>\n",
              "      <button class=\"colab-df-convert\" onclick=\"convertToInteractive('df-66501173-c15f-4173-a20b-ac7523202771')\"\n",
              "              title=\"Convert this dataframe to an interactive table.\"\n",
              "              style=\"display:none;\">\n",
              "        \n",
              "  <svg xmlns=\"http://www.w3.org/2000/svg\" height=\"24px\"viewBox=\"0 0 24 24\"\n",
              "       width=\"24px\">\n",
              "    <path d=\"M0 0h24v24H0V0z\" fill=\"none\"/>\n",
              "    <path d=\"M18.56 5.44l.94 2.06.94-2.06 2.06-.94-2.06-.94-.94-2.06-.94 2.06-2.06.94zm-11 1L8.5 8.5l.94-2.06 2.06-.94-2.06-.94L8.5 2.5l-.94 2.06-2.06.94zm10 10l.94 2.06.94-2.06 2.06-.94-2.06-.94-.94-2.06-.94 2.06-2.06.94z\"/><path d=\"M17.41 7.96l-1.37-1.37c-.4-.4-.92-.59-1.43-.59-.52 0-1.04.2-1.43.59L10.3 9.45l-7.72 7.72c-.78.78-.78 2.05 0 2.83L4 21.41c.39.39.9.59 1.41.59.51 0 1.02-.2 1.41-.59l7.78-7.78 2.81-2.81c.8-.78.8-2.07 0-2.86zM5.41 20L4 18.59l7.72-7.72 1.47 1.35L5.41 20z\"/>\n",
              "  </svg>\n",
              "      </button>\n",
              "      \n",
              "  <style>\n",
              "    .colab-df-container {\n",
              "      display:flex;\n",
              "      flex-wrap:wrap;\n",
              "      gap: 12px;\n",
              "    }\n",
              "\n",
              "    .colab-df-convert {\n",
              "      background-color: #E8F0FE;\n",
              "      border: none;\n",
              "      border-radius: 50%;\n",
              "      cursor: pointer;\n",
              "      display: none;\n",
              "      fill: #1967D2;\n",
              "      height: 32px;\n",
              "      padding: 0 0 0 0;\n",
              "      width: 32px;\n",
              "    }\n",
              "\n",
              "    .colab-df-convert:hover {\n",
              "      background-color: #E2EBFA;\n",
              "      box-shadow: 0px 1px 2px rgba(60, 64, 67, 0.3), 0px 1px 3px 1px rgba(60, 64, 67, 0.15);\n",
              "      fill: #174EA6;\n",
              "    }\n",
              "\n",
              "    [theme=dark] .colab-df-convert {\n",
              "      background-color: #3B4455;\n",
              "      fill: #D2E3FC;\n",
              "    }\n",
              "\n",
              "    [theme=dark] .colab-df-convert:hover {\n",
              "      background-color: #434B5C;\n",
              "      box-shadow: 0px 1px 3px 1px rgba(0, 0, 0, 0.15);\n",
              "      filter: drop-shadow(0px 1px 2px rgba(0, 0, 0, 0.3));\n",
              "      fill: #FFFFFF;\n",
              "    }\n",
              "  </style>\n",
              "\n",
              "      <script>\n",
              "        const buttonEl =\n",
              "          document.querySelector('#df-66501173-c15f-4173-a20b-ac7523202771 button.colab-df-convert');\n",
              "        buttonEl.style.display =\n",
              "          google.colab.kernel.accessAllowed ? 'block' : 'none';\n",
              "\n",
              "        async function convertToInteractive(key) {\n",
              "          const element = document.querySelector('#df-66501173-c15f-4173-a20b-ac7523202771');\n",
              "          const dataTable =\n",
              "            await google.colab.kernel.invokeFunction('convertToInteractive',\n",
              "                                                     [key], {});\n",
              "          if (!dataTable) return;\n",
              "\n",
              "          const docLinkHtml = 'Like what you see? Visit the ' +\n",
              "            '<a target=\"_blank\" href=https://colab.research.google.com/notebooks/data_table.ipynb>data table notebook</a>'\n",
              "            + ' to learn more about interactive tables.';\n",
              "          element.innerHTML = '';\n",
              "          dataTable['output_type'] = 'display_data';\n",
              "          await google.colab.output.renderOutput(dataTable, element);\n",
              "          const docLink = document.createElement('div');\n",
              "          docLink.innerHTML = docLinkHtml;\n",
              "          element.appendChild(docLink);\n",
              "        }\n",
              "      </script>\n",
              "    </div>\n",
              "  </div>\n",
              "  "
            ]
          },
          "metadata": {},
          "execution_count": 27
        }
      ],
      "source": [
        "avg_movie_rating = (movie_rating.\n",
        "     groupby(by = ['title'])['rating'].\n",
        "     mean().\n",
        "     reset_index().\n",
        "     rename(columns = {'rating': 'avg_movie_rating'})\n",
        "     [['title', 'avg_movie_rating']]\n",
        "    )\n",
        "avg_movie_rating.head()"
      ]
    },
    {
      "cell_type": "markdown",
      "source": [
        "## Nonpersonalized recommendation"
      ],
      "metadata": {
        "id": "7LbzZA4YJOnX"
      },
      "id": "7LbzZA4YJOnX"
    },
    {
      "cell_type": "markdown",
      "id": "702b30ad",
      "metadata": {
        "id": "702b30ad"
      },
      "source": [
        "If we based on the average movie rating, we get the following movie recommendations."
      ]
    },
    {
      "cell_type": "code",
      "execution_count": 28,
      "id": "c51798ba",
      "metadata": {
        "colab": {
          "base_uri": "https://localhost:8080/",
          "height": 359
        },
        "id": "c51798ba",
        "outputId": "7a453c0e-db0c-4139-f204-0df3c8caae06"
      },
      "outputs": [
        {
          "output_type": "execute_result",
          "data": {
            "text/plain": [
              "                                                title  avg_movie_rating\n",
              "21015  Stargate SG-1 Children of the Gods - Final Cut               5.0\n",
              "23592                        Turkish Dance, Ella Lola               5.0\n",
              "12284   Keeping the Promise (Sign of the Beaver, The)               5.0\n",
              "15418                                     Muddy River               5.0\n",
              "21234                           Story of Science, The               5.0\n",
              "9043                                         Giorgino               5.0\n",
              "8396             Foster Brothers, The (Süt kardesler)               5.0\n",
              "13389                              Linotype: The Film               5.0\n",
              "1778                                           B-Side               5.0\n",
              "14440                                       Marihuana               5.0"
            ],
            "text/html": [
              "\n",
              "  <div id=\"df-ada80328-9b56-4a61-bc4a-43c9bae734e5\">\n",
              "    <div class=\"colab-df-container\">\n",
              "      <div>\n",
              "<style scoped>\n",
              "    .dataframe tbody tr th:only-of-type {\n",
              "        vertical-align: middle;\n",
              "    }\n",
              "\n",
              "    .dataframe tbody tr th {\n",
              "        vertical-align: top;\n",
              "    }\n",
              "\n",
              "    .dataframe thead th {\n",
              "        text-align: right;\n",
              "    }\n",
              "</style>\n",
              "<table border=\"1\" class=\"dataframe\">\n",
              "  <thead>\n",
              "    <tr style=\"text-align: right;\">\n",
              "      <th></th>\n",
              "      <th>title</th>\n",
              "      <th>avg_movie_rating</th>\n",
              "    </tr>\n",
              "  </thead>\n",
              "  <tbody>\n",
              "    <tr>\n",
              "      <th>21015</th>\n",
              "      <td>Stargate SG-1 Children of the Gods - Final Cut</td>\n",
              "      <td>5.0</td>\n",
              "    </tr>\n",
              "    <tr>\n",
              "      <th>23592</th>\n",
              "      <td>Turkish Dance, Ella Lola</td>\n",
              "      <td>5.0</td>\n",
              "    </tr>\n",
              "    <tr>\n",
              "      <th>12284</th>\n",
              "      <td>Keeping the Promise (Sign of the Beaver, The)</td>\n",
              "      <td>5.0</td>\n",
              "    </tr>\n",
              "    <tr>\n",
              "      <th>15418</th>\n",
              "      <td>Muddy River</td>\n",
              "      <td>5.0</td>\n",
              "    </tr>\n",
              "    <tr>\n",
              "      <th>21234</th>\n",
              "      <td>Story of Science, The</td>\n",
              "      <td>5.0</td>\n",
              "    </tr>\n",
              "    <tr>\n",
              "      <th>9043</th>\n",
              "      <td>Giorgino</td>\n",
              "      <td>5.0</td>\n",
              "    </tr>\n",
              "    <tr>\n",
              "      <th>8396</th>\n",
              "      <td>Foster Brothers, The (Süt kardesler)</td>\n",
              "      <td>5.0</td>\n",
              "    </tr>\n",
              "    <tr>\n",
              "      <th>13389</th>\n",
              "      <td>Linotype: The Film</td>\n",
              "      <td>5.0</td>\n",
              "    </tr>\n",
              "    <tr>\n",
              "      <th>1778</th>\n",
              "      <td>B-Side</td>\n",
              "      <td>5.0</td>\n",
              "    </tr>\n",
              "    <tr>\n",
              "      <th>14440</th>\n",
              "      <td>Marihuana</td>\n",
              "      <td>5.0</td>\n",
              "    </tr>\n",
              "  </tbody>\n",
              "</table>\n",
              "</div>\n",
              "      <button class=\"colab-df-convert\" onclick=\"convertToInteractive('df-ada80328-9b56-4a61-bc4a-43c9bae734e5')\"\n",
              "              title=\"Convert this dataframe to an interactive table.\"\n",
              "              style=\"display:none;\">\n",
              "        \n",
              "  <svg xmlns=\"http://www.w3.org/2000/svg\" height=\"24px\"viewBox=\"0 0 24 24\"\n",
              "       width=\"24px\">\n",
              "    <path d=\"M0 0h24v24H0V0z\" fill=\"none\"/>\n",
              "    <path d=\"M18.56 5.44l.94 2.06.94-2.06 2.06-.94-2.06-.94-.94-2.06-.94 2.06-2.06.94zm-11 1L8.5 8.5l.94-2.06 2.06-.94-2.06-.94L8.5 2.5l-.94 2.06-2.06.94zm10 10l.94 2.06.94-2.06 2.06-.94-2.06-.94-.94-2.06-.94 2.06-2.06.94z\"/><path d=\"M17.41 7.96l-1.37-1.37c-.4-.4-.92-.59-1.43-.59-.52 0-1.04.2-1.43.59L10.3 9.45l-7.72 7.72c-.78.78-.78 2.05 0 2.83L4 21.41c.39.39.9.59 1.41.59.51 0 1.02-.2 1.41-.59l7.78-7.78 2.81-2.81c.8-.78.8-2.07 0-2.86zM5.41 20L4 18.59l7.72-7.72 1.47 1.35L5.41 20z\"/>\n",
              "  </svg>\n",
              "      </button>\n",
              "      \n",
              "  <style>\n",
              "    .colab-df-container {\n",
              "      display:flex;\n",
              "      flex-wrap:wrap;\n",
              "      gap: 12px;\n",
              "    }\n",
              "\n",
              "    .colab-df-convert {\n",
              "      background-color: #E8F0FE;\n",
              "      border: none;\n",
              "      border-radius: 50%;\n",
              "      cursor: pointer;\n",
              "      display: none;\n",
              "      fill: #1967D2;\n",
              "      height: 32px;\n",
              "      padding: 0 0 0 0;\n",
              "      width: 32px;\n",
              "    }\n",
              "\n",
              "    .colab-df-convert:hover {\n",
              "      background-color: #E2EBFA;\n",
              "      box-shadow: 0px 1px 2px rgba(60, 64, 67, 0.3), 0px 1px 3px 1px rgba(60, 64, 67, 0.15);\n",
              "      fill: #174EA6;\n",
              "    }\n",
              "\n",
              "    [theme=dark] .colab-df-convert {\n",
              "      background-color: #3B4455;\n",
              "      fill: #D2E3FC;\n",
              "    }\n",
              "\n",
              "    [theme=dark] .colab-df-convert:hover {\n",
              "      background-color: #434B5C;\n",
              "      box-shadow: 0px 1px 3px 1px rgba(0, 0, 0, 0.15);\n",
              "      filter: drop-shadow(0px 1px 2px rgba(0, 0, 0, 0.3));\n",
              "      fill: #FFFFFF;\n",
              "    }\n",
              "  </style>\n",
              "\n",
              "      <script>\n",
              "        const buttonEl =\n",
              "          document.querySelector('#df-ada80328-9b56-4a61-bc4a-43c9bae734e5 button.colab-df-convert');\n",
              "        buttonEl.style.display =\n",
              "          google.colab.kernel.accessAllowed ? 'block' : 'none';\n",
              "\n",
              "        async function convertToInteractive(key) {\n",
              "          const element = document.querySelector('#df-ada80328-9b56-4a61-bc4a-43c9bae734e5');\n",
              "          const dataTable =\n",
              "            await google.colab.kernel.invokeFunction('convertToInteractive',\n",
              "                                                     [key], {});\n",
              "          if (!dataTable) return;\n",
              "\n",
              "          const docLinkHtml = 'Like what you see? Visit the ' +\n",
              "            '<a target=\"_blank\" href=https://colab.research.google.com/notebooks/data_table.ipynb>data table notebook</a>'\n",
              "            + ' to learn more about interactive tables.';\n",
              "          element.innerHTML = '';\n",
              "          dataTable['output_type'] = 'display_data';\n",
              "          await google.colab.output.renderOutput(dataTable, element);\n",
              "          const docLink = document.createElement('div');\n",
              "          docLink.innerHTML = docLinkHtml;\n",
              "          element.appendChild(docLink);\n",
              "        }\n",
              "      </script>\n",
              "    </div>\n",
              "  </div>\n",
              "  "
            ]
          },
          "metadata": {},
          "execution_count": 28
        }
      ],
      "source": [
        "# Sort the average moving rating in descending order and displaying the top 10.\n",
        "avg_movie_rating = avg_movie_rating.sort_values(by='avg_movie_rating',ascending=False)\n",
        "top_ten=avg_movie_rating.head(10)\n",
        "top_ten"
      ]
    },
    {
      "cell_type": "markdown",
      "id": "c247934c",
      "metadata": {
        "id": "c247934c"
      },
      "source": [
        "As you can see, the titles are unfamiliar. Hence, we examine the number of ratings made for each of the movie."
      ]
    },
    {
      "cell_type": "code",
      "source": [
        "# Create a new dataframe rating_count which consists the total rating count per movie\n",
        "rating_count = (movie_rating.\n",
        "     groupby(by = ['title'])['rating'].\n",
        "     count().\n",
        "     reset_index().\n",
        "     rename(columns = {'rating': 'total_rating_count'})\n",
        "     [['title', 'total_rating_count']]\n",
        "    )\n",
        "rating_count['total_rating_count'].describe()"
      ],
      "metadata": {
        "colab": {
          "base_uri": "https://localhost:8080/"
        },
        "id": "4Fn3nTNGQ8za",
        "outputId": "bf26093b-8036-42ba-8add-3a89d3b01b22"
      },
      "id": "4Fn3nTNGQ8za",
      "execution_count": 29,
      "outputs": [
        {
          "output_type": "execute_result",
          "data": {
            "text/plain": [
              "count    25696.000000\n",
              "mean       778.325732\n",
              "std       3162.483773\n",
              "min          1.000000\n",
              "25%          3.000000\n",
              "50%         18.000000\n",
              "75%        214.000000\n",
              "max      67310.000000\n",
              "Name: total_rating_count, dtype: float64"
            ]
          },
          "metadata": {},
          "execution_count": 29
        }
      ]
    },
    {
      "cell_type": "markdown",
      "source": [
        "To make things easier, let us define a function that returns the rating coung of the top ten selected movies."
      ],
      "metadata": {
        "id": "-LVHaPP2HRO0"
      },
      "id": "-LVHaPP2HRO0"
    },
    {
      "cell_type": "code",
      "source": [
        "def ratingcount(i):\n",
        "  print(rating_count.loc[i])"
      ],
      "metadata": {
        "id": "MfztOB8KKQv3"
      },
      "id": "MfztOB8KKQv3",
      "execution_count": 30,
      "outputs": []
    },
    {
      "cell_type": "code",
      "source": [
        "ratingcount(top_ten.index)"
      ],
      "metadata": {
        "colab": {
          "base_uri": "https://localhost:8080/"
        },
        "id": "wHMpWkOeWShO",
        "outputId": "eda6d14e-1aaf-42e4-c8d8-9e22dcaced25"
      },
      "id": "wHMpWkOeWShO",
      "execution_count": 31,
      "outputs": [
        {
          "output_type": "stream",
          "name": "stdout",
          "text": [
            "                                                title  total_rating_count\n",
            "21015  Stargate SG-1 Children of the Gods - Final Cut                   1\n",
            "23592                        Turkish Dance, Ella Lola                   1\n",
            "12284   Keeping the Promise (Sign of the Beaver, The)                   1\n",
            "15418                                     Muddy River                   1\n",
            "21234                           Story of Science, The                   1\n",
            "9043                                         Giorgino                   1\n",
            "8396             Foster Brothers, The (Süt kardesler)                   1\n",
            "13389                              Linotype: The Film                   1\n",
            "1778                                           B-Side                   1\n",
            "14440                                       Marihuana                   1\n"
          ]
        }
      ]
    },
    {
      "cell_type": "markdown",
      "id": "0825412e",
      "metadata": {
        "id": "0825412e"
      },
      "source": [
        "As you can see, each of the listed movie recommendations has received rating from only one user. This may not be accurate since we want a popular movies to be recommended for all the users. Hence, we set a popularity threshold, that is, we will only consider those movies who received ratings from 50 users and above.\n",
        "\n",
        "From the movie_rating dataframe, we will create a new dataframe that consists the total rating count of the movie."
      ]
    },
    {
      "cell_type": "code",
      "execution_count": 32,
      "id": "44ad772b",
      "metadata": {
        "colab": {
          "base_uri": "https://localhost:8080/",
          "height": 204
        },
        "id": "44ad772b",
        "outputId": "e5d8a3ad-bfff-46f6-e7c5-73e3d719f38d"
      },
      "outputs": [
        {
          "output_type": "execute_result",
          "data": {
            "text/plain": [
              "                                             title  total_rating_count\n",
              "0                             (500) Days of Summer                5767\n",
              "1                       10 Things I Hate About You               11613\n",
              "2                                   101 Dalmatians                8581\n",
              "3  101 Dalmatians (One Hundred and One Dalmatians)                7784\n",
              "4                                     12 Angry Men               13304"
            ],
            "text/html": [
              "\n",
              "  <div id=\"df-2dc3a591-089e-4997-a8b3-3c6bcfca0b59\">\n",
              "    <div class=\"colab-df-container\">\n",
              "      <div>\n",
              "<style scoped>\n",
              "    .dataframe tbody tr th:only-of-type {\n",
              "        vertical-align: middle;\n",
              "    }\n",
              "\n",
              "    .dataframe tbody tr th {\n",
              "        vertical-align: top;\n",
              "    }\n",
              "\n",
              "    .dataframe thead th {\n",
              "        text-align: right;\n",
              "    }\n",
              "</style>\n",
              "<table border=\"1\" class=\"dataframe\">\n",
              "  <thead>\n",
              "    <tr style=\"text-align: right;\">\n",
              "      <th></th>\n",
              "      <th>title</th>\n",
              "      <th>total_rating_count</th>\n",
              "    </tr>\n",
              "  </thead>\n",
              "  <tbody>\n",
              "    <tr>\n",
              "      <th>0</th>\n",
              "      <td>(500) Days of Summer</td>\n",
              "      <td>5767</td>\n",
              "    </tr>\n",
              "    <tr>\n",
              "      <th>1</th>\n",
              "      <td>10 Things I Hate About You</td>\n",
              "      <td>11613</td>\n",
              "    </tr>\n",
              "    <tr>\n",
              "      <th>2</th>\n",
              "      <td>101 Dalmatians</td>\n",
              "      <td>8581</td>\n",
              "    </tr>\n",
              "    <tr>\n",
              "      <th>3</th>\n",
              "      <td>101 Dalmatians (One Hundred and One Dalmatians)</td>\n",
              "      <td>7784</td>\n",
              "    </tr>\n",
              "    <tr>\n",
              "      <th>4</th>\n",
              "      <td>12 Angry Men</td>\n",
              "      <td>13304</td>\n",
              "    </tr>\n",
              "  </tbody>\n",
              "</table>\n",
              "</div>\n",
              "      <button class=\"colab-df-convert\" onclick=\"convertToInteractive('df-2dc3a591-089e-4997-a8b3-3c6bcfca0b59')\"\n",
              "              title=\"Convert this dataframe to an interactive table.\"\n",
              "              style=\"display:none;\">\n",
              "        \n",
              "  <svg xmlns=\"http://www.w3.org/2000/svg\" height=\"24px\"viewBox=\"0 0 24 24\"\n",
              "       width=\"24px\">\n",
              "    <path d=\"M0 0h24v24H0V0z\" fill=\"none\"/>\n",
              "    <path d=\"M18.56 5.44l.94 2.06.94-2.06 2.06-.94-2.06-.94-.94-2.06-.94 2.06-2.06.94zm-11 1L8.5 8.5l.94-2.06 2.06-.94-2.06-.94L8.5 2.5l-.94 2.06-2.06.94zm10 10l.94 2.06.94-2.06 2.06-.94-2.06-.94-.94-2.06-.94 2.06-2.06.94z\"/><path d=\"M17.41 7.96l-1.37-1.37c-.4-.4-.92-.59-1.43-.59-.52 0-1.04.2-1.43.59L10.3 9.45l-7.72 7.72c-.78.78-.78 2.05 0 2.83L4 21.41c.39.39.9.59 1.41.59.51 0 1.02-.2 1.41-.59l7.78-7.78 2.81-2.81c.8-.78.8-2.07 0-2.86zM5.41 20L4 18.59l7.72-7.72 1.47 1.35L5.41 20z\"/>\n",
              "  </svg>\n",
              "      </button>\n",
              "      \n",
              "  <style>\n",
              "    .colab-df-container {\n",
              "      display:flex;\n",
              "      flex-wrap:wrap;\n",
              "      gap: 12px;\n",
              "    }\n",
              "\n",
              "    .colab-df-convert {\n",
              "      background-color: #E8F0FE;\n",
              "      border: none;\n",
              "      border-radius: 50%;\n",
              "      cursor: pointer;\n",
              "      display: none;\n",
              "      fill: #1967D2;\n",
              "      height: 32px;\n",
              "      padding: 0 0 0 0;\n",
              "      width: 32px;\n",
              "    }\n",
              "\n",
              "    .colab-df-convert:hover {\n",
              "      background-color: #E2EBFA;\n",
              "      box-shadow: 0px 1px 2px rgba(60, 64, 67, 0.3), 0px 1px 3px 1px rgba(60, 64, 67, 0.15);\n",
              "      fill: #174EA6;\n",
              "    }\n",
              "\n",
              "    [theme=dark] .colab-df-convert {\n",
              "      background-color: #3B4455;\n",
              "      fill: #D2E3FC;\n",
              "    }\n",
              "\n",
              "    [theme=dark] .colab-df-convert:hover {\n",
              "      background-color: #434B5C;\n",
              "      box-shadow: 0px 1px 3px 1px rgba(0, 0, 0, 0.15);\n",
              "      filter: drop-shadow(0px 1px 2px rgba(0, 0, 0, 0.3));\n",
              "      fill: #FFFFFF;\n",
              "    }\n",
              "  </style>\n",
              "\n",
              "      <script>\n",
              "        const buttonEl =\n",
              "          document.querySelector('#df-2dc3a591-089e-4997-a8b3-3c6bcfca0b59 button.colab-df-convert');\n",
              "        buttonEl.style.display =\n",
              "          google.colab.kernel.accessAllowed ? 'block' : 'none';\n",
              "\n",
              "        async function convertToInteractive(key) {\n",
              "          const element = document.querySelector('#df-2dc3a591-089e-4997-a8b3-3c6bcfca0b59');\n",
              "          const dataTable =\n",
              "            await google.colab.kernel.invokeFunction('convertToInteractive',\n",
              "                                                     [key], {});\n",
              "          if (!dataTable) return;\n",
              "\n",
              "          const docLinkHtml = 'Like what you see? Visit the ' +\n",
              "            '<a target=\"_blank\" href=https://colab.research.google.com/notebooks/data_table.ipynb>data table notebook</a>'\n",
              "            + ' to learn more about interactive tables.';\n",
              "          element.innerHTML = '';\n",
              "          dataTable['output_type'] = 'display_data';\n",
              "          await google.colab.output.renderOutput(dataTable, element);\n",
              "          const docLink = document.createElement('div');\n",
              "          docLink.innerHTML = docLinkHtml;\n",
              "          element.appendChild(docLink);\n",
              "        }\n",
              "      </script>\n",
              "    </div>\n",
              "  </div>\n",
              "  "
            ]
          },
          "metadata": {},
          "execution_count": 32
        }
      ],
      "source": [
        "# Set the popularity threshold\n",
        "popularity_threshold = 5000\n",
        "popular_movie= rating_count.query('total_rating_count >= @popularity_threshold').reset_index(drop=True)\n",
        "popular_movie.head()"
      ]
    },
    {
      "cell_type": "code",
      "execution_count": 33,
      "id": "66b5503a",
      "metadata": {
        "colab": {
          "base_uri": "https://localhost:8080/"
        },
        "id": "66b5503a",
        "outputId": "0daa3785-703e-40e3-9368-406ddd9d95fa"
      },
      "outputs": [
        {
          "output_type": "stream",
          "name": "stdout",
          "text": [
            "The number of movies we will consider is  1018 .\n"
          ]
        }
      ],
      "source": [
        "print('The number of movies we will consider is ', popular_movie.shape[0],'.')"
      ]
    },
    {
      "cell_type": "markdown",
      "id": "29ae4b87",
      "metadata": {
        "id": "29ae4b87"
      },
      "source": [
        "Next, we will merge the dataframes popular_movie and avg_movie_rating."
      ]
    },
    {
      "cell_type": "code",
      "execution_count": 34,
      "id": "cc0dd4f3",
      "metadata": {
        "colab": {
          "base_uri": "https://localhost:8080/",
          "height": 204
        },
        "id": "cc0dd4f3",
        "outputId": "802a124d-35be-4ef2-fc96-83b8a4363655"
      },
      "outputs": [
        {
          "output_type": "execute_result",
          "data": {
            "text/plain": [
              "                                             title  total_rating_count  \\\n",
              "0                             (500) Days of Summer                5767   \n",
              "1                       10 Things I Hate About You               11613   \n",
              "2                                   101 Dalmatians                8581   \n",
              "3  101 Dalmatians (One Hundred and One Dalmatians)                7784   \n",
              "4                                     12 Angry Men               13304   \n",
              "\n",
              "   avg_movie_rating  \n",
              "0          3.804231  \n",
              "1          3.473909  \n",
              "2          3.078429  \n",
              "3          3.432618  \n",
              "4          4.213658  "
            ],
            "text/html": [
              "\n",
              "  <div id=\"df-18ef3c3c-e846-44e9-8aaf-481b8a98c021\">\n",
              "    <div class=\"colab-df-container\">\n",
              "      <div>\n",
              "<style scoped>\n",
              "    .dataframe tbody tr th:only-of-type {\n",
              "        vertical-align: middle;\n",
              "    }\n",
              "\n",
              "    .dataframe tbody tr th {\n",
              "        vertical-align: top;\n",
              "    }\n",
              "\n",
              "    .dataframe thead th {\n",
              "        text-align: right;\n",
              "    }\n",
              "</style>\n",
              "<table border=\"1\" class=\"dataframe\">\n",
              "  <thead>\n",
              "    <tr style=\"text-align: right;\">\n",
              "      <th></th>\n",
              "      <th>title</th>\n",
              "      <th>total_rating_count</th>\n",
              "      <th>avg_movie_rating</th>\n",
              "    </tr>\n",
              "  </thead>\n",
              "  <tbody>\n",
              "    <tr>\n",
              "      <th>0</th>\n",
              "      <td>(500) Days of Summer</td>\n",
              "      <td>5767</td>\n",
              "      <td>3.804231</td>\n",
              "    </tr>\n",
              "    <tr>\n",
              "      <th>1</th>\n",
              "      <td>10 Things I Hate About You</td>\n",
              "      <td>11613</td>\n",
              "      <td>3.473909</td>\n",
              "    </tr>\n",
              "    <tr>\n",
              "      <th>2</th>\n",
              "      <td>101 Dalmatians</td>\n",
              "      <td>8581</td>\n",
              "      <td>3.078429</td>\n",
              "    </tr>\n",
              "    <tr>\n",
              "      <th>3</th>\n",
              "      <td>101 Dalmatians (One Hundred and One Dalmatians)</td>\n",
              "      <td>7784</td>\n",
              "      <td>3.432618</td>\n",
              "    </tr>\n",
              "    <tr>\n",
              "      <th>4</th>\n",
              "      <td>12 Angry Men</td>\n",
              "      <td>13304</td>\n",
              "      <td>4.213658</td>\n",
              "    </tr>\n",
              "  </tbody>\n",
              "</table>\n",
              "</div>\n",
              "      <button class=\"colab-df-convert\" onclick=\"convertToInteractive('df-18ef3c3c-e846-44e9-8aaf-481b8a98c021')\"\n",
              "              title=\"Convert this dataframe to an interactive table.\"\n",
              "              style=\"display:none;\">\n",
              "        \n",
              "  <svg xmlns=\"http://www.w3.org/2000/svg\" height=\"24px\"viewBox=\"0 0 24 24\"\n",
              "       width=\"24px\">\n",
              "    <path d=\"M0 0h24v24H0V0z\" fill=\"none\"/>\n",
              "    <path d=\"M18.56 5.44l.94 2.06.94-2.06 2.06-.94-2.06-.94-.94-2.06-.94 2.06-2.06.94zm-11 1L8.5 8.5l.94-2.06 2.06-.94-2.06-.94L8.5 2.5l-.94 2.06-2.06.94zm10 10l.94 2.06.94-2.06 2.06-.94-2.06-.94-.94-2.06-.94 2.06-2.06.94z\"/><path d=\"M17.41 7.96l-1.37-1.37c-.4-.4-.92-.59-1.43-.59-.52 0-1.04.2-1.43.59L10.3 9.45l-7.72 7.72c-.78.78-.78 2.05 0 2.83L4 21.41c.39.39.9.59 1.41.59.51 0 1.02-.2 1.41-.59l7.78-7.78 2.81-2.81c.8-.78.8-2.07 0-2.86zM5.41 20L4 18.59l7.72-7.72 1.47 1.35L5.41 20z\"/>\n",
              "  </svg>\n",
              "      </button>\n",
              "      \n",
              "  <style>\n",
              "    .colab-df-container {\n",
              "      display:flex;\n",
              "      flex-wrap:wrap;\n",
              "      gap: 12px;\n",
              "    }\n",
              "\n",
              "    .colab-df-convert {\n",
              "      background-color: #E8F0FE;\n",
              "      border: none;\n",
              "      border-radius: 50%;\n",
              "      cursor: pointer;\n",
              "      display: none;\n",
              "      fill: #1967D2;\n",
              "      height: 32px;\n",
              "      padding: 0 0 0 0;\n",
              "      width: 32px;\n",
              "    }\n",
              "\n",
              "    .colab-df-convert:hover {\n",
              "      background-color: #E2EBFA;\n",
              "      box-shadow: 0px 1px 2px rgba(60, 64, 67, 0.3), 0px 1px 3px 1px rgba(60, 64, 67, 0.15);\n",
              "      fill: #174EA6;\n",
              "    }\n",
              "\n",
              "    [theme=dark] .colab-df-convert {\n",
              "      background-color: #3B4455;\n",
              "      fill: #D2E3FC;\n",
              "    }\n",
              "\n",
              "    [theme=dark] .colab-df-convert:hover {\n",
              "      background-color: #434B5C;\n",
              "      box-shadow: 0px 1px 3px 1px rgba(0, 0, 0, 0.15);\n",
              "      filter: drop-shadow(0px 1px 2px rgba(0, 0, 0, 0.3));\n",
              "      fill: #FFFFFF;\n",
              "    }\n",
              "  </style>\n",
              "\n",
              "      <script>\n",
              "        const buttonEl =\n",
              "          document.querySelector('#df-18ef3c3c-e846-44e9-8aaf-481b8a98c021 button.colab-df-convert');\n",
              "        buttonEl.style.display =\n",
              "          google.colab.kernel.accessAllowed ? 'block' : 'none';\n",
              "\n",
              "        async function convertToInteractive(key) {\n",
              "          const element = document.querySelector('#df-18ef3c3c-e846-44e9-8aaf-481b8a98c021');\n",
              "          const dataTable =\n",
              "            await google.colab.kernel.invokeFunction('convertToInteractive',\n",
              "                                                     [key], {});\n",
              "          if (!dataTable) return;\n",
              "\n",
              "          const docLinkHtml = 'Like what you see? Visit the ' +\n",
              "            '<a target=\"_blank\" href=https://colab.research.google.com/notebooks/data_table.ipynb>data table notebook</a>'\n",
              "            + ' to learn more about interactive tables.';\n",
              "          element.innerHTML = '';\n",
              "          dataTable['output_type'] = 'display_data';\n",
              "          await google.colab.output.renderOutput(dataTable, element);\n",
              "          const docLink = document.createElement('div');\n",
              "          docLink.innerHTML = docLinkHtml;\n",
              "          element.appendChild(docLink);\n",
              "        }\n",
              "      </script>\n",
              "    </div>\n",
              "  </div>\n",
              "  "
            ]
          },
          "metadata": {},
          "execution_count": 34
        }
      ],
      "source": [
        "# Combine the two dataframes popular_movie and avg_movie_rating. into one dataframe df_nonpersonalized\n",
        "df_nonpersonalized = pd.merge(popular_movie,avg_movie_rating,on='title', how='left')\n",
        "df_nonpersonalized.head()"
      ]
    },
    {
      "cell_type": "markdown",
      "id": "deb5fe18",
      "metadata": {
        "id": "deb5fe18"
      },
      "source": [
        "Our movie recommendations for all the user based on popularity is the following."
      ]
    },
    {
      "cell_type": "code",
      "execution_count": 35,
      "id": "47613c12",
      "metadata": {
        "colab": {
          "base_uri": "https://localhost:8080/"
        },
        "id": "47613c12",
        "outputId": "bc0869c0-3a74-459e-ae8d-85401bf7f283"
      },
      "outputs": [
        {
          "output_type": "execute_result",
          "data": {
            "text/plain": [
              "0                 Shawshank Redemption, The\n",
              "1                            Godfather, The\n",
              "2                       Usual Suspects, The\n",
              "3                          Schindler's List\n",
              "4                   Godfather: Part II, The\n",
              "5      Seven Samurai (Shichinin no samurai)\n",
              "6                               Rear Window\n",
              "7                                Casablanca\n",
              "8    Sunset Blvd. (a.k.a. Sunset Boulevard)\n",
              "9           One Flew Over the Cuckoo's Nest\n",
              "Name: title, dtype: object"
            ]
          },
          "metadata": {},
          "execution_count": 35
        }
      ],
      "source": [
        "# Sort the df_nonpersonalized in descending order and displaying the top 10.\n",
        "df_nonpersonalized = df_nonpersonalized.sort_values(by='avg_movie_rating',ascending=False)\n",
        "df_nonpersonalized['title'].head(10).reset_index(drop=True)"
      ]
    },
    {
      "cell_type": "markdown",
      "source": [
        "## Content-based recommendation"
      ],
      "metadata": {
        "id": "G9tg6IqeHmnA"
      },
      "id": "G9tg6IqeHmnA"
    },
    {
      "cell_type": "markdown",
      "source": [
        "Let us build a recommendation system based on the genres of the movie. We will use the popular movie list from the nonpresonalized recommendation."
      ],
      "metadata": {
        "id": "t-oZasuMIkIS"
      },
      "id": "t-oZasuMIkIS"
    },
    {
      "cell_type": "code",
      "source": [
        "popular_movie_genre = pd.merge(popular_movie, movie_genre, how='left', on='title')"
      ],
      "metadata": {
        "id": "Cmr_6LAtJRUm"
      },
      "id": "Cmr_6LAtJRUm",
      "execution_count": 36,
      "outputs": []
    },
    {
      "cell_type": "code",
      "source": [
        "popular_movie_genre_table = pd.pivot_table(popular_movie_genre,index=['title'])\n",
        "popular_movie_genre_table"
      ],
      "metadata": {
        "colab": {
          "base_uri": "https://localhost:8080/",
          "height": 735
        },
        "id": "T3KlSEqFHr9q",
        "outputId": "450f6e37-60bb-49f4-8916-1f1d594ab252"
      },
      "id": "T3KlSEqFHr9q",
      "execution_count": 37,
      "outputs": [
        {
          "output_type": "execute_result",
          "data": {
            "text/plain": [
              "                                                 Action  Adventure  Animation  \\\n",
              "title                                                                           \n",
              "(500) Days of Summer                                0.0        0.0        0.0   \n",
              "10 Things I Hate About You                          0.0        0.0        0.0   \n",
              "101 Dalmatians                                      0.0        1.0        0.0   \n",
              "101 Dalmatians (One Hundred and One Dalmatians)     0.0        1.0        1.0   \n",
              "12 Angry Men                                        0.0        0.0        0.0   \n",
              "...                                                 ...        ...        ...   \n",
              "Young Guns                                          1.0        0.0        0.0   \n",
              "Zombieland                                          1.0        0.0        0.0   \n",
              "Zoolander                                           0.0        0.0        0.0   \n",
              "eXistenZ                                            1.0        0.0        0.0   \n",
              "¡Three Amigos!                                      0.0        0.0        0.0   \n",
              "\n",
              "                                                 Children  Comedy  Crime  \\\n",
              "title                                                                      \n",
              "(500) Days of Summer                                  0.0     1.0    0.0   \n",
              "10 Things I Hate About You                            0.0     1.0    0.0   \n",
              "101 Dalmatians                                        1.0     1.0    0.0   \n",
              "101 Dalmatians (One Hundred and One Dalmatians)       1.0     0.0    0.0   \n",
              "12 Angry Men                                          0.0     0.0    0.5   \n",
              "...                                                   ...     ...    ...   \n",
              "Young Guns                                            0.0     1.0    0.0   \n",
              "Zombieland                                            0.0     1.0    0.0   \n",
              "Zoolander                                             0.0     1.0    0.0   \n",
              "eXistenZ                                              0.0     0.0    0.0   \n",
              "¡Three Amigos!                                        0.0     1.0    0.0   \n",
              "\n",
              "                                                 Documentary  Drama  Fantasy  \\\n",
              "title                                                                          \n",
              "(500) Days of Summer                                     0.0    1.0      0.0   \n",
              "10 Things I Hate About You                               0.0    0.0      0.0   \n",
              "101 Dalmatians                                           0.0    0.0      0.0   \n",
              "101 Dalmatians (One Hundred and One Dalmatians)          0.0    0.0      0.0   \n",
              "12 Angry Men                                             0.0    1.0      0.0   \n",
              "...                                                      ...    ...      ...   \n",
              "Young Guns                                               0.0    0.0      0.0   \n",
              "Zombieland                                               0.0    0.0      0.0   \n",
              "Zoolander                                                0.0    0.0      0.0   \n",
              "eXistenZ                                                 0.0    0.0      0.0   \n",
              "¡Three Amigos!                                           0.0    0.0      0.0   \n",
              "\n",
              "                                                 Film-Noir  Horror  Musical  \\\n",
              "title                                                                         \n",
              "(500) Days of Summer                                   0.0     0.0      0.0   \n",
              "10 Things I Hate About You                             0.0     0.0      0.0   \n",
              "101 Dalmatians                                         0.0     0.0      0.0   \n",
              "101 Dalmatians (One Hundred and One Dalmatians)        0.0     0.0      0.0   \n",
              "12 Angry Men                                           0.0     0.0      0.0   \n",
              "...                                                    ...     ...      ...   \n",
              "Young Guns                                             0.0     0.0      0.0   \n",
              "Zombieland                                             0.0     1.0      0.0   \n",
              "Zoolander                                              0.0     0.0      0.0   \n",
              "eXistenZ                                               0.0     0.0      0.0   \n",
              "¡Three Amigos!                                         0.0     0.0      0.0   \n",
              "\n",
              "                                                 Mystery  Romance  Sci-Fi  \\\n",
              "title                                                                       \n",
              "(500) Days of Summer                                 0.0      1.0     0.0   \n",
              "10 Things I Hate About You                           0.0      1.0     0.0   \n",
              "101 Dalmatians                                       0.0      0.0     0.0   \n",
              "101 Dalmatians (One Hundred and One Dalmatians)      0.0      0.0     0.0   \n",
              "12 Angry Men                                         0.0      0.0     0.0   \n",
              "...                                                  ...      ...     ...   \n",
              "Young Guns                                           0.0      0.0     0.0   \n",
              "Zombieland                                           0.0      0.0     0.0   \n",
              "Zoolander                                            0.0      0.0     0.0   \n",
              "eXistenZ                                             0.0      0.0     1.0   \n",
              "¡Three Amigos!                                       0.0      0.0     0.0   \n",
              "\n",
              "                                                 Thriller  War  Western  \\\n",
              "title                                                                     \n",
              "(500) Days of Summer                                  0.0  0.0      0.0   \n",
              "10 Things I Hate About You                            0.0  0.0      0.0   \n",
              "101 Dalmatians                                        0.0  0.0      0.0   \n",
              "101 Dalmatians (One Hundred and One Dalmatians)       0.0  0.0      0.0   \n",
              "12 Angry Men                                          0.0  0.0      0.0   \n",
              "...                                                   ...  ...      ...   \n",
              "Young Guns                                            0.0  0.0      1.0   \n",
              "Zombieland                                            0.0  0.0      0.0   \n",
              "Zoolander                                             0.0  0.0      0.0   \n",
              "eXistenZ                                              1.0  0.0      0.0   \n",
              "¡Three Amigos!                                        0.0  0.0      1.0   \n",
              "\n",
              "                                                 total_rating_count    year  \n",
              "title                                                                        \n",
              "(500) Days of Summer                                           5767  2009.0  \n",
              "10 Things I Hate About You                                    11613  1999.0  \n",
              "101 Dalmatians                                                 8581  1996.0  \n",
              "101 Dalmatians (One Hundred and One Dalmatians)                7784  1961.0  \n",
              "12 Angry Men                                                  13304  1977.0  \n",
              "...                                                             ...     ...  \n",
              "Young Guns                                                     6755  1988.0  \n",
              "Zombieland                                                     5429  2009.0  \n",
              "Zoolander                                                      7499  2001.0  \n",
              "eXistenZ                                                       5298  1999.0  \n",
              "¡Three Amigos!                                                 6485  1986.0  \n",
              "\n",
              "[1018 rows x 20 columns]"
            ],
            "text/html": [
              "\n",
              "  <div id=\"df-6f024f27-eaf3-466a-8e78-f4f05a2c1aee\">\n",
              "    <div class=\"colab-df-container\">\n",
              "      <div>\n",
              "<style scoped>\n",
              "    .dataframe tbody tr th:only-of-type {\n",
              "        vertical-align: middle;\n",
              "    }\n",
              "\n",
              "    .dataframe tbody tr th {\n",
              "        vertical-align: top;\n",
              "    }\n",
              "\n",
              "    .dataframe thead th {\n",
              "        text-align: right;\n",
              "    }\n",
              "</style>\n",
              "<table border=\"1\" class=\"dataframe\">\n",
              "  <thead>\n",
              "    <tr style=\"text-align: right;\">\n",
              "      <th></th>\n",
              "      <th>Action</th>\n",
              "      <th>Adventure</th>\n",
              "      <th>Animation</th>\n",
              "      <th>Children</th>\n",
              "      <th>Comedy</th>\n",
              "      <th>Crime</th>\n",
              "      <th>Documentary</th>\n",
              "      <th>Drama</th>\n",
              "      <th>Fantasy</th>\n",
              "      <th>Film-Noir</th>\n",
              "      <th>Horror</th>\n",
              "      <th>Musical</th>\n",
              "      <th>Mystery</th>\n",
              "      <th>Romance</th>\n",
              "      <th>Sci-Fi</th>\n",
              "      <th>Thriller</th>\n",
              "      <th>War</th>\n",
              "      <th>Western</th>\n",
              "      <th>total_rating_count</th>\n",
              "      <th>year</th>\n",
              "    </tr>\n",
              "    <tr>\n",
              "      <th>title</th>\n",
              "      <th></th>\n",
              "      <th></th>\n",
              "      <th></th>\n",
              "      <th></th>\n",
              "      <th></th>\n",
              "      <th></th>\n",
              "      <th></th>\n",
              "      <th></th>\n",
              "      <th></th>\n",
              "      <th></th>\n",
              "      <th></th>\n",
              "      <th></th>\n",
              "      <th></th>\n",
              "      <th></th>\n",
              "      <th></th>\n",
              "      <th></th>\n",
              "      <th></th>\n",
              "      <th></th>\n",
              "      <th></th>\n",
              "      <th></th>\n",
              "    </tr>\n",
              "  </thead>\n",
              "  <tbody>\n",
              "    <tr>\n",
              "      <th>(500) Days of Summer</th>\n",
              "      <td>0.0</td>\n",
              "      <td>0.0</td>\n",
              "      <td>0.0</td>\n",
              "      <td>0.0</td>\n",
              "      <td>1.0</td>\n",
              "      <td>0.0</td>\n",
              "      <td>0.0</td>\n",
              "      <td>1.0</td>\n",
              "      <td>0.0</td>\n",
              "      <td>0.0</td>\n",
              "      <td>0.0</td>\n",
              "      <td>0.0</td>\n",
              "      <td>0.0</td>\n",
              "      <td>1.0</td>\n",
              "      <td>0.0</td>\n",
              "      <td>0.0</td>\n",
              "      <td>0.0</td>\n",
              "      <td>0.0</td>\n",
              "      <td>5767</td>\n",
              "      <td>2009.0</td>\n",
              "    </tr>\n",
              "    <tr>\n",
              "      <th>10 Things I Hate About You</th>\n",
              "      <td>0.0</td>\n",
              "      <td>0.0</td>\n",
              "      <td>0.0</td>\n",
              "      <td>0.0</td>\n",
              "      <td>1.0</td>\n",
              "      <td>0.0</td>\n",
              "      <td>0.0</td>\n",
              "      <td>0.0</td>\n",
              "      <td>0.0</td>\n",
              "      <td>0.0</td>\n",
              "      <td>0.0</td>\n",
              "      <td>0.0</td>\n",
              "      <td>0.0</td>\n",
              "      <td>1.0</td>\n",
              "      <td>0.0</td>\n",
              "      <td>0.0</td>\n",
              "      <td>0.0</td>\n",
              "      <td>0.0</td>\n",
              "      <td>11613</td>\n",
              "      <td>1999.0</td>\n",
              "    </tr>\n",
              "    <tr>\n",
              "      <th>101 Dalmatians</th>\n",
              "      <td>0.0</td>\n",
              "      <td>1.0</td>\n",
              "      <td>0.0</td>\n",
              "      <td>1.0</td>\n",
              "      <td>1.0</td>\n",
              "      <td>0.0</td>\n",
              "      <td>0.0</td>\n",
              "      <td>0.0</td>\n",
              "      <td>0.0</td>\n",
              "      <td>0.0</td>\n",
              "      <td>0.0</td>\n",
              "      <td>0.0</td>\n",
              "      <td>0.0</td>\n",
              "      <td>0.0</td>\n",
              "      <td>0.0</td>\n",
              "      <td>0.0</td>\n",
              "      <td>0.0</td>\n",
              "      <td>0.0</td>\n",
              "      <td>8581</td>\n",
              "      <td>1996.0</td>\n",
              "    </tr>\n",
              "    <tr>\n",
              "      <th>101 Dalmatians (One Hundred and One Dalmatians)</th>\n",
              "      <td>0.0</td>\n",
              "      <td>1.0</td>\n",
              "      <td>1.0</td>\n",
              "      <td>1.0</td>\n",
              "      <td>0.0</td>\n",
              "      <td>0.0</td>\n",
              "      <td>0.0</td>\n",
              "      <td>0.0</td>\n",
              "      <td>0.0</td>\n",
              "      <td>0.0</td>\n",
              "      <td>0.0</td>\n",
              "      <td>0.0</td>\n",
              "      <td>0.0</td>\n",
              "      <td>0.0</td>\n",
              "      <td>0.0</td>\n",
              "      <td>0.0</td>\n",
              "      <td>0.0</td>\n",
              "      <td>0.0</td>\n",
              "      <td>7784</td>\n",
              "      <td>1961.0</td>\n",
              "    </tr>\n",
              "    <tr>\n",
              "      <th>12 Angry Men</th>\n",
              "      <td>0.0</td>\n",
              "      <td>0.0</td>\n",
              "      <td>0.0</td>\n",
              "      <td>0.0</td>\n",
              "      <td>0.0</td>\n",
              "      <td>0.5</td>\n",
              "      <td>0.0</td>\n",
              "      <td>1.0</td>\n",
              "      <td>0.0</td>\n",
              "      <td>0.0</td>\n",
              "      <td>0.0</td>\n",
              "      <td>0.0</td>\n",
              "      <td>0.0</td>\n",
              "      <td>0.0</td>\n",
              "      <td>0.0</td>\n",
              "      <td>0.0</td>\n",
              "      <td>0.0</td>\n",
              "      <td>0.0</td>\n",
              "      <td>13304</td>\n",
              "      <td>1977.0</td>\n",
              "    </tr>\n",
              "    <tr>\n",
              "      <th>...</th>\n",
              "      <td>...</td>\n",
              "      <td>...</td>\n",
              "      <td>...</td>\n",
              "      <td>...</td>\n",
              "      <td>...</td>\n",
              "      <td>...</td>\n",
              "      <td>...</td>\n",
              "      <td>...</td>\n",
              "      <td>...</td>\n",
              "      <td>...</td>\n",
              "      <td>...</td>\n",
              "      <td>...</td>\n",
              "      <td>...</td>\n",
              "      <td>...</td>\n",
              "      <td>...</td>\n",
              "      <td>...</td>\n",
              "      <td>...</td>\n",
              "      <td>...</td>\n",
              "      <td>...</td>\n",
              "      <td>...</td>\n",
              "    </tr>\n",
              "    <tr>\n",
              "      <th>Young Guns</th>\n",
              "      <td>1.0</td>\n",
              "      <td>0.0</td>\n",
              "      <td>0.0</td>\n",
              "      <td>0.0</td>\n",
              "      <td>1.0</td>\n",
              "      <td>0.0</td>\n",
              "      <td>0.0</td>\n",
              "      <td>0.0</td>\n",
              "      <td>0.0</td>\n",
              "      <td>0.0</td>\n",
              "      <td>0.0</td>\n",
              "      <td>0.0</td>\n",
              "      <td>0.0</td>\n",
              "      <td>0.0</td>\n",
              "      <td>0.0</td>\n",
              "      <td>0.0</td>\n",
              "      <td>0.0</td>\n",
              "      <td>1.0</td>\n",
              "      <td>6755</td>\n",
              "      <td>1988.0</td>\n",
              "    </tr>\n",
              "    <tr>\n",
              "      <th>Zombieland</th>\n",
              "      <td>1.0</td>\n",
              "      <td>0.0</td>\n",
              "      <td>0.0</td>\n",
              "      <td>0.0</td>\n",
              "      <td>1.0</td>\n",
              "      <td>0.0</td>\n",
              "      <td>0.0</td>\n",
              "      <td>0.0</td>\n",
              "      <td>0.0</td>\n",
              "      <td>0.0</td>\n",
              "      <td>1.0</td>\n",
              "      <td>0.0</td>\n",
              "      <td>0.0</td>\n",
              "      <td>0.0</td>\n",
              "      <td>0.0</td>\n",
              "      <td>0.0</td>\n",
              "      <td>0.0</td>\n",
              "      <td>0.0</td>\n",
              "      <td>5429</td>\n",
              "      <td>2009.0</td>\n",
              "    </tr>\n",
              "    <tr>\n",
              "      <th>Zoolander</th>\n",
              "      <td>0.0</td>\n",
              "      <td>0.0</td>\n",
              "      <td>0.0</td>\n",
              "      <td>0.0</td>\n",
              "      <td>1.0</td>\n",
              "      <td>0.0</td>\n",
              "      <td>0.0</td>\n",
              "      <td>0.0</td>\n",
              "      <td>0.0</td>\n",
              "      <td>0.0</td>\n",
              "      <td>0.0</td>\n",
              "      <td>0.0</td>\n",
              "      <td>0.0</td>\n",
              "      <td>0.0</td>\n",
              "      <td>0.0</td>\n",
              "      <td>0.0</td>\n",
              "      <td>0.0</td>\n",
              "      <td>0.0</td>\n",
              "      <td>7499</td>\n",
              "      <td>2001.0</td>\n",
              "    </tr>\n",
              "    <tr>\n",
              "      <th>eXistenZ</th>\n",
              "      <td>1.0</td>\n",
              "      <td>0.0</td>\n",
              "      <td>0.0</td>\n",
              "      <td>0.0</td>\n",
              "      <td>0.0</td>\n",
              "      <td>0.0</td>\n",
              "      <td>0.0</td>\n",
              "      <td>0.0</td>\n",
              "      <td>0.0</td>\n",
              "      <td>0.0</td>\n",
              "      <td>0.0</td>\n",
              "      <td>0.0</td>\n",
              "      <td>0.0</td>\n",
              "      <td>0.0</td>\n",
              "      <td>1.0</td>\n",
              "      <td>1.0</td>\n",
              "      <td>0.0</td>\n",
              "      <td>0.0</td>\n",
              "      <td>5298</td>\n",
              "      <td>1999.0</td>\n",
              "    </tr>\n",
              "    <tr>\n",
              "      <th>¡Three Amigos!</th>\n",
              "      <td>0.0</td>\n",
              "      <td>0.0</td>\n",
              "      <td>0.0</td>\n",
              "      <td>0.0</td>\n",
              "      <td>1.0</td>\n",
              "      <td>0.0</td>\n",
              "      <td>0.0</td>\n",
              "      <td>0.0</td>\n",
              "      <td>0.0</td>\n",
              "      <td>0.0</td>\n",
              "      <td>0.0</td>\n",
              "      <td>0.0</td>\n",
              "      <td>0.0</td>\n",
              "      <td>0.0</td>\n",
              "      <td>0.0</td>\n",
              "      <td>0.0</td>\n",
              "      <td>0.0</td>\n",
              "      <td>1.0</td>\n",
              "      <td>6485</td>\n",
              "      <td>1986.0</td>\n",
              "    </tr>\n",
              "  </tbody>\n",
              "</table>\n",
              "<p>1018 rows × 20 columns</p>\n",
              "</div>\n",
              "      <button class=\"colab-df-convert\" onclick=\"convertToInteractive('df-6f024f27-eaf3-466a-8e78-f4f05a2c1aee')\"\n",
              "              title=\"Convert this dataframe to an interactive table.\"\n",
              "              style=\"display:none;\">\n",
              "        \n",
              "  <svg xmlns=\"http://www.w3.org/2000/svg\" height=\"24px\"viewBox=\"0 0 24 24\"\n",
              "       width=\"24px\">\n",
              "    <path d=\"M0 0h24v24H0V0z\" fill=\"none\"/>\n",
              "    <path d=\"M18.56 5.44l.94 2.06.94-2.06 2.06-.94-2.06-.94-.94-2.06-.94 2.06-2.06.94zm-11 1L8.5 8.5l.94-2.06 2.06-.94-2.06-.94L8.5 2.5l-.94 2.06-2.06.94zm10 10l.94 2.06.94-2.06 2.06-.94-2.06-.94-.94-2.06-.94 2.06-2.06.94z\"/><path d=\"M17.41 7.96l-1.37-1.37c-.4-.4-.92-.59-1.43-.59-.52 0-1.04.2-1.43.59L10.3 9.45l-7.72 7.72c-.78.78-.78 2.05 0 2.83L4 21.41c.39.39.9.59 1.41.59.51 0 1.02-.2 1.41-.59l7.78-7.78 2.81-2.81c.8-.78.8-2.07 0-2.86zM5.41 20L4 18.59l7.72-7.72 1.47 1.35L5.41 20z\"/>\n",
              "  </svg>\n",
              "      </button>\n",
              "      \n",
              "  <style>\n",
              "    .colab-df-container {\n",
              "      display:flex;\n",
              "      flex-wrap:wrap;\n",
              "      gap: 12px;\n",
              "    }\n",
              "\n",
              "    .colab-df-convert {\n",
              "      background-color: #E8F0FE;\n",
              "      border: none;\n",
              "      border-radius: 50%;\n",
              "      cursor: pointer;\n",
              "      display: none;\n",
              "      fill: #1967D2;\n",
              "      height: 32px;\n",
              "      padding: 0 0 0 0;\n",
              "      width: 32px;\n",
              "    }\n",
              "\n",
              "    .colab-df-convert:hover {\n",
              "      background-color: #E2EBFA;\n",
              "      box-shadow: 0px 1px 2px rgba(60, 64, 67, 0.3), 0px 1px 3px 1px rgba(60, 64, 67, 0.15);\n",
              "      fill: #174EA6;\n",
              "    }\n",
              "\n",
              "    [theme=dark] .colab-df-convert {\n",
              "      background-color: #3B4455;\n",
              "      fill: #D2E3FC;\n",
              "    }\n",
              "\n",
              "    [theme=dark] .colab-df-convert:hover {\n",
              "      background-color: #434B5C;\n",
              "      box-shadow: 0px 1px 3px 1px rgba(0, 0, 0, 0.15);\n",
              "      filter: drop-shadow(0px 1px 2px rgba(0, 0, 0, 0.3));\n",
              "      fill: #FFFFFF;\n",
              "    }\n",
              "  </style>\n",
              "\n",
              "      <script>\n",
              "        const buttonEl =\n",
              "          document.querySelector('#df-6f024f27-eaf3-466a-8e78-f4f05a2c1aee button.colab-df-convert');\n",
              "        buttonEl.style.display =\n",
              "          google.colab.kernel.accessAllowed ? 'block' : 'none';\n",
              "\n",
              "        async function convertToInteractive(key) {\n",
              "          const element = document.querySelector('#df-6f024f27-eaf3-466a-8e78-f4f05a2c1aee');\n",
              "          const dataTable =\n",
              "            await google.colab.kernel.invokeFunction('convertToInteractive',\n",
              "                                                     [key], {});\n",
              "          if (!dataTable) return;\n",
              "\n",
              "          const docLinkHtml = 'Like what you see? Visit the ' +\n",
              "            '<a target=\"_blank\" href=https://colab.research.google.com/notebooks/data_table.ipynb>data table notebook</a>'\n",
              "            + ' to learn more about interactive tables.';\n",
              "          element.innerHTML = '';\n",
              "          dataTable['output_type'] = 'display_data';\n",
              "          await google.colab.output.renderOutput(dataTable, element);\n",
              "          const docLink = document.createElement('div');\n",
              "          docLink.innerHTML = docLinkHtml;\n",
              "          element.appendChild(docLink);\n",
              "        }\n",
              "      </script>\n",
              "    </div>\n",
              "  </div>\n",
              "  "
            ]
          },
          "metadata": {},
          "execution_count": 37
        }
      ]
    },
    {
      "cell_type": "markdown",
      "source": [
        "Next, we import libraries for our recommender system and define functions for our recommendation system.\n",
        "\n",
        "We will use the jaccard metric."
      ],
      "metadata": {
        "id": "oBg1bqAVKNCL"
      },
      "id": "oBg1bqAVKNCL"
    },
    {
      "cell_type": "code",
      "source": [
        "from sklearn.metrics import jaccard_score\n",
        "from scipy.spatial.distance import pdist, squareform\n",
        "\n",
        "# Calculate all pairwise distances\n",
        "jaccard_distances = pdist(popular_movie_genre_table.values, metric='jaccard')\n",
        "\n",
        "# Convert the distances to a square matrix\n",
        "jaccard_similarity_array = 1 -  squareform(jaccard_distances)\n",
        "\n",
        "# Wrap the array in a pandas DataFrame\n",
        "jaccard_similarity_df = pd.DataFrame(jaccard_similarity_array, \n",
        "                                     index=popular_movie_genre_table.index, \n",
        "                                     columns=popular_movie_genre_table.index)"
      ],
      "metadata": {
        "id": "8nl2KwfIHsVc"
      },
      "id": "8nl2KwfIHsVc",
      "execution_count": 38,
      "outputs": []
    },
    {
      "cell_type": "code",
      "source": [
        "def contentbased_jaccard(title):\n",
        "  # Find the values for the movie title\n",
        "  jaccard_similarity_series = jaccard_similarity_df.loc[title]\n",
        "  # Sort these values from highest to lowest\n",
        "  ordered_similarities = jaccard_similarity_series.sort_values(ascending=False)\n",
        "  # Print the results\n",
        "  print(ordered_similarities.head(10))"
      ],
      "metadata": {
        "id": "tw8rvNiHUXbq"
      },
      "id": "tw8rvNiHUXbq",
      "execution_count": 39,
      "outputs": []
    },
    {
      "cell_type": "markdown",
      "source": [
        "Now, we are ready for the content-based recommender system."
      ],
      "metadata": {
        "id": "c89gV76xKZvx"
      },
      "id": "c89gV76xKZvx"
    },
    {
      "cell_type": "code",
      "source": [
        "contentbased_jaccard('Wizard of Oz, The')"
      ],
      "metadata": {
        "colab": {
          "base_uri": "https://localhost:8080/"
        },
        "id": "JoVREDyUU3pq",
        "outputId": "4f410771-0ef1-4dc4-b483-462ae00a7d77"
      },
      "id": "JoVREDyUU3pq",
      "execution_count": 40,
      "outputs": [
        {
          "output_type": "stream",
          "name": "stdout",
          "text": [
            "title\n",
            "Wizard of Oz, The                                                                          1.000000\n",
            "Charlie and the Chocolate Factory                                                          0.428571\n",
            "NeverEnding Story, The                                                                     0.428571\n",
            "Harry Potter and the Sorcerer's Stone (a.k.a. Harry Potter and the Philosopher's Stone)    0.428571\n",
            "Chronicles of Narnia: The Lion, the Witch and the Wardrobe, The                            0.428571\n",
            "Jumanji                                                                                    0.428571\n",
            "Indian in the Cupboard, The                                                                0.428571\n",
            "Emperor's New Groove, The                                                                  0.375000\n",
            "Honey, I Shrunk the Kids                                                                   0.375000\n",
            "Monsters, Inc.                                                                             0.375000\n",
            "Name: Wizard of Oz, The, dtype: float64\n"
          ]
        }
      ]
    },
    {
      "cell_type": "code",
      "source": [
        "contentbased_jaccard(\"Harry Potter and the Sorcerer's Stone (a.k.a. Harry Potter and the Philosopher's Stone)\")"
      ],
      "metadata": {
        "colab": {
          "base_uri": "https://localhost:8080/"
        },
        "id": "hDgQQ98GVHNe",
        "outputId": "a5d2341a-8dba-432c-ac8b-8c237a4a653f"
      },
      "id": "hDgQQ98GVHNe",
      "execution_count": 41,
      "outputs": [
        {
          "output_type": "stream",
          "name": "stdout",
          "text": [
            "title\n",
            "Harry Potter and the Sorcerer's Stone (a.k.a. Harry Potter and the Philosopher's Stone)    1.000000\n",
            "Lord of the Rings: The Fellowship of the Ring, The                                         0.600000\n",
            "Indian in the Cupboard, The                                                                0.600000\n",
            "NeverEnding Story, The                                                                     0.600000\n",
            "Jumanji                                                                                    0.600000\n",
            "Chronicles of Narnia: The Lion, the Witch and the Wardrobe, The                            0.600000\n",
            "Monsters, Inc.                                                                             0.571429\n",
            "Spirited Away (Sen to Chihiro no kamikakushi)                                              0.500000\n",
            "Charlie and the Chocolate Factory                                                          0.500000\n",
            "Shrek                                                                                      0.500000\n",
            "Name: Harry Potter and the Sorcerer's Stone (a.k.a. Harry Potter and the Philosopher's Stone), dtype: float64\n"
          ]
        }
      ]
    },
    {
      "cell_type": "markdown",
      "source": [
        "## Collaborative filtering"
      ],
      "metadata": {
        "id": "mTcmxXpNIiBf"
      },
      "id": "mTcmxXpNIiBf"
    },
    {
      "cell_type": "code",
      "source": [
        "popular_movie.shape"
      ],
      "metadata": {
        "id": "1G9qlmD3VHUe",
        "colab": {
          "base_uri": "https://localhost:8080/"
        },
        "outputId": "a12290b5-8daf-4d42-ad79-0e048151c153"
      },
      "id": "1G9qlmD3VHUe",
      "execution_count": 42,
      "outputs": [
        {
          "output_type": "execute_result",
          "data": {
            "text/plain": [
              "(1018, 2)"
            ]
          },
          "metadata": {},
          "execution_count": 42
        }
      ]
    },
    {
      "cell_type": "code",
      "source": [
        "rating.shape"
      ],
      "metadata": {
        "colab": {
          "base_uri": "https://localhost:8080/"
        },
        "id": "nKGyg9LGIhVP",
        "outputId": "66214c08-6e37-4406-af7e-49648441d798"
      },
      "id": "nKGyg9LGIhVP",
      "execution_count": 43,
      "outputs": [
        {
          "output_type": "execute_result",
          "data": {
            "text/plain": [
              "(20000263, 4)"
            ]
          },
          "metadata": {},
          "execution_count": 43
        }
      ]
    },
    {
      "cell_type": "code",
      "source": [
        "popular_movie_rating = pd.merge(popular_movie, movie_rating, on='title', how='left')"
      ],
      "metadata": {
        "id": "eu5MDBuHIhYB"
      },
      "id": "eu5MDBuHIhYB",
      "execution_count": 44,
      "outputs": []
    },
    {
      "cell_type": "code",
      "source": [
        "popular_movie_rating.shape"
      ],
      "metadata": {
        "colab": {
          "base_uri": "https://localhost:8080/"
        },
        "id": "2yPOfeekIhbK",
        "outputId": "390b413c-cbcd-46dd-b713-edbb9b619f15"
      },
      "id": "2yPOfeekIhbK",
      "execution_count": 45,
      "outputs": [
        {
          "output_type": "execute_result",
          "data": {
            "text/plain": [
              "(13040777, 8)"
            ]
          },
          "metadata": {},
          "execution_count": 45
        }
      ]
    },
    {
      "cell_type": "code",
      "source": [
        "popular_movie_rating.head()"
      ],
      "metadata": {
        "colab": {
          "base_uri": "https://localhost:8080/",
          "height": 204
        },
        "id": "x_GkRb2QKnfQ",
        "outputId": "a5695c82-4243-4869-f267-ef9232038459"
      },
      "id": "x_GkRb2QKnfQ",
      "execution_count": 46,
      "outputs": [
        {
          "output_type": "execute_result",
          "data": {
            "text/plain": [
              "                  title  total_rating_count  userId  movieId  rating  \\\n",
              "0  (500) Days of Summer                5767     129    69757     5.0   \n",
              "1  (500) Days of Summer                5767     133    69757     4.5   \n",
              "2  (500) Days of Summer                5767     168    69757     3.0   \n",
              "3  (500) Days of Summer                5767     190    69757     4.0   \n",
              "4  (500) Days of Summer                5767     219    69757     4.5   \n",
              "\n",
              "            timestamp                genres    year  \n",
              "0 2010-09-02 05:31:11  Comedy|Drama|Romance  2009.0  \n",
              "1 2014-04-11 16:42:38  Comedy|Drama|Romance  2009.0  \n",
              "2 2010-02-16 18:35:20  Comedy|Drama|Romance  2009.0  \n",
              "3 2012-02-12 19:14:29  Comedy|Drama|Romance  2009.0  \n",
              "4 2010-09-21 02:43:07  Comedy|Drama|Romance  2009.0  "
            ],
            "text/html": [
              "\n",
              "  <div id=\"df-2775d3cc-4cfe-4abd-b9e9-8aae71c163ba\">\n",
              "    <div class=\"colab-df-container\">\n",
              "      <div>\n",
              "<style scoped>\n",
              "    .dataframe tbody tr th:only-of-type {\n",
              "        vertical-align: middle;\n",
              "    }\n",
              "\n",
              "    .dataframe tbody tr th {\n",
              "        vertical-align: top;\n",
              "    }\n",
              "\n",
              "    .dataframe thead th {\n",
              "        text-align: right;\n",
              "    }\n",
              "</style>\n",
              "<table border=\"1\" class=\"dataframe\">\n",
              "  <thead>\n",
              "    <tr style=\"text-align: right;\">\n",
              "      <th></th>\n",
              "      <th>title</th>\n",
              "      <th>total_rating_count</th>\n",
              "      <th>userId</th>\n",
              "      <th>movieId</th>\n",
              "      <th>rating</th>\n",
              "      <th>timestamp</th>\n",
              "      <th>genres</th>\n",
              "      <th>year</th>\n",
              "    </tr>\n",
              "  </thead>\n",
              "  <tbody>\n",
              "    <tr>\n",
              "      <th>0</th>\n",
              "      <td>(500) Days of Summer</td>\n",
              "      <td>5767</td>\n",
              "      <td>129</td>\n",
              "      <td>69757</td>\n",
              "      <td>5.0</td>\n",
              "      <td>2010-09-02 05:31:11</td>\n",
              "      <td>Comedy|Drama|Romance</td>\n",
              "      <td>2009.0</td>\n",
              "    </tr>\n",
              "    <tr>\n",
              "      <th>1</th>\n",
              "      <td>(500) Days of Summer</td>\n",
              "      <td>5767</td>\n",
              "      <td>133</td>\n",
              "      <td>69757</td>\n",
              "      <td>4.5</td>\n",
              "      <td>2014-04-11 16:42:38</td>\n",
              "      <td>Comedy|Drama|Romance</td>\n",
              "      <td>2009.0</td>\n",
              "    </tr>\n",
              "    <tr>\n",
              "      <th>2</th>\n",
              "      <td>(500) Days of Summer</td>\n",
              "      <td>5767</td>\n",
              "      <td>168</td>\n",
              "      <td>69757</td>\n",
              "      <td>3.0</td>\n",
              "      <td>2010-02-16 18:35:20</td>\n",
              "      <td>Comedy|Drama|Romance</td>\n",
              "      <td>2009.0</td>\n",
              "    </tr>\n",
              "    <tr>\n",
              "      <th>3</th>\n",
              "      <td>(500) Days of Summer</td>\n",
              "      <td>5767</td>\n",
              "      <td>190</td>\n",
              "      <td>69757</td>\n",
              "      <td>4.0</td>\n",
              "      <td>2012-02-12 19:14:29</td>\n",
              "      <td>Comedy|Drama|Romance</td>\n",
              "      <td>2009.0</td>\n",
              "    </tr>\n",
              "    <tr>\n",
              "      <th>4</th>\n",
              "      <td>(500) Days of Summer</td>\n",
              "      <td>5767</td>\n",
              "      <td>219</td>\n",
              "      <td>69757</td>\n",
              "      <td>4.5</td>\n",
              "      <td>2010-09-21 02:43:07</td>\n",
              "      <td>Comedy|Drama|Romance</td>\n",
              "      <td>2009.0</td>\n",
              "    </tr>\n",
              "  </tbody>\n",
              "</table>\n",
              "</div>\n",
              "      <button class=\"colab-df-convert\" onclick=\"convertToInteractive('df-2775d3cc-4cfe-4abd-b9e9-8aae71c163ba')\"\n",
              "              title=\"Convert this dataframe to an interactive table.\"\n",
              "              style=\"display:none;\">\n",
              "        \n",
              "  <svg xmlns=\"http://www.w3.org/2000/svg\" height=\"24px\"viewBox=\"0 0 24 24\"\n",
              "       width=\"24px\">\n",
              "    <path d=\"M0 0h24v24H0V0z\" fill=\"none\"/>\n",
              "    <path d=\"M18.56 5.44l.94 2.06.94-2.06 2.06-.94-2.06-.94-.94-2.06-.94 2.06-2.06.94zm-11 1L8.5 8.5l.94-2.06 2.06-.94-2.06-.94L8.5 2.5l-.94 2.06-2.06.94zm10 10l.94 2.06.94-2.06 2.06-.94-2.06-.94-.94-2.06-.94 2.06-2.06.94z\"/><path d=\"M17.41 7.96l-1.37-1.37c-.4-.4-.92-.59-1.43-.59-.52 0-1.04.2-1.43.59L10.3 9.45l-7.72 7.72c-.78.78-.78 2.05 0 2.83L4 21.41c.39.39.9.59 1.41.59.51 0 1.02-.2 1.41-.59l7.78-7.78 2.81-2.81c.8-.78.8-2.07 0-2.86zM5.41 20L4 18.59l7.72-7.72 1.47 1.35L5.41 20z\"/>\n",
              "  </svg>\n",
              "      </button>\n",
              "      \n",
              "  <style>\n",
              "    .colab-df-container {\n",
              "      display:flex;\n",
              "      flex-wrap:wrap;\n",
              "      gap: 12px;\n",
              "    }\n",
              "\n",
              "    .colab-df-convert {\n",
              "      background-color: #E8F0FE;\n",
              "      border: none;\n",
              "      border-radius: 50%;\n",
              "      cursor: pointer;\n",
              "      display: none;\n",
              "      fill: #1967D2;\n",
              "      height: 32px;\n",
              "      padding: 0 0 0 0;\n",
              "      width: 32px;\n",
              "    }\n",
              "\n",
              "    .colab-df-convert:hover {\n",
              "      background-color: #E2EBFA;\n",
              "      box-shadow: 0px 1px 2px rgba(60, 64, 67, 0.3), 0px 1px 3px 1px rgba(60, 64, 67, 0.15);\n",
              "      fill: #174EA6;\n",
              "    }\n",
              "\n",
              "    [theme=dark] .colab-df-convert {\n",
              "      background-color: #3B4455;\n",
              "      fill: #D2E3FC;\n",
              "    }\n",
              "\n",
              "    [theme=dark] .colab-df-convert:hover {\n",
              "      background-color: #434B5C;\n",
              "      box-shadow: 0px 1px 3px 1px rgba(0, 0, 0, 0.15);\n",
              "      filter: drop-shadow(0px 1px 2px rgba(0, 0, 0, 0.3));\n",
              "      fill: #FFFFFF;\n",
              "    }\n",
              "  </style>\n",
              "\n",
              "      <script>\n",
              "        const buttonEl =\n",
              "          document.querySelector('#df-2775d3cc-4cfe-4abd-b9e9-8aae71c163ba button.colab-df-convert');\n",
              "        buttonEl.style.display =\n",
              "          google.colab.kernel.accessAllowed ? 'block' : 'none';\n",
              "\n",
              "        async function convertToInteractive(key) {\n",
              "          const element = document.querySelector('#df-2775d3cc-4cfe-4abd-b9e9-8aae71c163ba');\n",
              "          const dataTable =\n",
              "            await google.colab.kernel.invokeFunction('convertToInteractive',\n",
              "                                                     [key], {});\n",
              "          if (!dataTable) return;\n",
              "\n",
              "          const docLinkHtml = 'Like what you see? Visit the ' +\n",
              "            '<a target=\"_blank\" href=https://colab.research.google.com/notebooks/data_table.ipynb>data table notebook</a>'\n",
              "            + ' to learn more about interactive tables.';\n",
              "          element.innerHTML = '';\n",
              "          dataTable['output_type'] = 'display_data';\n",
              "          await google.colab.output.renderOutput(dataTable, element);\n",
              "          const docLink = document.createElement('div');\n",
              "          docLink.innerHTML = docLinkHtml;\n",
              "          element.appendChild(docLink);\n",
              "        }\n",
              "      </script>\n",
              "    </div>\n",
              "  </div>\n",
              "  "
            ]
          },
          "metadata": {},
          "execution_count": 46
        }
      ]
    },
    {
      "cell_type": "code",
      "source": [
        "rating_crosstab = popular_movie_rating.pivot_table(values='rating', index='userId', columns='title', fill_value=0)\n",
        "rating_crosstab.head()"
      ],
      "metadata": {
        "colab": {
          "base_uri": "https://localhost:8080/",
          "height": 413
        },
        "id": "ibuX_-S6IheS",
        "outputId": "0cd317f4-c94f-4f49-d3b1-070245ab8814"
      },
      "id": "ibuX_-S6IheS",
      "execution_count": 47,
      "outputs": [
        {
          "output_type": "execute_result",
          "data": {
            "text/plain": [
              "title   (500) Days of Summer  10 Things I Hate About You  101 Dalmatians  \\\n",
              "userId                                                                     \n",
              "1                        0.0                         0.0             0.0   \n",
              "2                        0.0                         0.0             0.0   \n",
              "3                        0.0                         0.0             0.0   \n",
              "4                        0.0                         0.0             0.0   \n",
              "5                        0.0                         0.0             0.0   \n",
              "\n",
              "title   101 Dalmatians (One Hundred and One Dalmatians)  12 Angry Men  \\\n",
              "userId                                                                  \n",
              "1                                                   0.0           0.0   \n",
              "2                                                   0.0           0.0   \n",
              "3                                                   0.0           0.0   \n",
              "4                                                   0.0           0.0   \n",
              "5                                                   0.0           0.0   \n",
              "\n",
              "title   13th Warrior, The  20,000 Leagues Under the Sea  \\\n",
              "userId                                                    \n",
              "1                     0.0                           0.0   \n",
              "2                     0.0                           0.0   \n",
              "3                     0.0                           0.0   \n",
              "4                     0.0                           0.0   \n",
              "5                     0.0                           0.0   \n",
              "\n",
              "title   2001: A Space Odyssey  21 Grams  28 Days Later  ...  X-Men  \\\n",
              "userId                                                  ...          \n",
              "1                         3.5       0.0            3.5  ...    0.0   \n",
              "2                         5.0       0.0            0.0  ...    0.0   \n",
              "3                         5.0       0.0            0.0  ...    0.0   \n",
              "4                         0.0       0.0            0.0  ...    0.0   \n",
              "5                         0.0       0.0            0.0  ...    0.0   \n",
              "\n",
              "title   X-Men: The Last Stand  X2: X-Men United  You've Got Mail  \\\n",
              "userId                                                             \n",
              "1                         0.0               4.0              0.0   \n",
              "2                         0.0               0.0              0.0   \n",
              "3                         0.0               0.0              0.0   \n",
              "4                         0.0               0.0              0.0   \n",
              "5                         0.0               0.0              0.0   \n",
              "\n",
              "title   Young Frankenstein  Young Guns  Zombieland  Zoolander  eXistenZ  \\\n",
              "userId                                                                    \n",
              "1                      4.0         0.0         0.0        0.0       0.0   \n",
              "2                      0.0         0.0         0.0        0.0       0.0   \n",
              "3                      5.0         0.0         0.0        0.0       0.0   \n",
              "4                      0.0         0.0         0.0        0.0       0.0   \n",
              "5                      0.0         0.0         0.0        0.0       0.0   \n",
              "\n",
              "title   ¡Three Amigos!  \n",
              "userId                  \n",
              "1                  0.0  \n",
              "2                  0.0  \n",
              "3                  0.0  \n",
              "4                  0.0  \n",
              "5                  0.0  \n",
              "\n",
              "[5 rows x 1018 columns]"
            ],
            "text/html": [
              "\n",
              "  <div id=\"df-d2aebb65-9a5b-4a2a-a1d9-037eab9222d8\">\n",
              "    <div class=\"colab-df-container\">\n",
              "      <div>\n",
              "<style scoped>\n",
              "    .dataframe tbody tr th:only-of-type {\n",
              "        vertical-align: middle;\n",
              "    }\n",
              "\n",
              "    .dataframe tbody tr th {\n",
              "        vertical-align: top;\n",
              "    }\n",
              "\n",
              "    .dataframe thead th {\n",
              "        text-align: right;\n",
              "    }\n",
              "</style>\n",
              "<table border=\"1\" class=\"dataframe\">\n",
              "  <thead>\n",
              "    <tr style=\"text-align: right;\">\n",
              "      <th>title</th>\n",
              "      <th>(500) Days of Summer</th>\n",
              "      <th>10 Things I Hate About You</th>\n",
              "      <th>101 Dalmatians</th>\n",
              "      <th>101 Dalmatians (One Hundred and One Dalmatians)</th>\n",
              "      <th>12 Angry Men</th>\n",
              "      <th>13th Warrior, The</th>\n",
              "      <th>20,000 Leagues Under the Sea</th>\n",
              "      <th>2001: A Space Odyssey</th>\n",
              "      <th>21 Grams</th>\n",
              "      <th>28 Days Later</th>\n",
              "      <th>...</th>\n",
              "      <th>X-Men</th>\n",
              "      <th>X-Men: The Last Stand</th>\n",
              "      <th>X2: X-Men United</th>\n",
              "      <th>You've Got Mail</th>\n",
              "      <th>Young Frankenstein</th>\n",
              "      <th>Young Guns</th>\n",
              "      <th>Zombieland</th>\n",
              "      <th>Zoolander</th>\n",
              "      <th>eXistenZ</th>\n",
              "      <th>¡Three Amigos!</th>\n",
              "    </tr>\n",
              "    <tr>\n",
              "      <th>userId</th>\n",
              "      <th></th>\n",
              "      <th></th>\n",
              "      <th></th>\n",
              "      <th></th>\n",
              "      <th></th>\n",
              "      <th></th>\n",
              "      <th></th>\n",
              "      <th></th>\n",
              "      <th></th>\n",
              "      <th></th>\n",
              "      <th></th>\n",
              "      <th></th>\n",
              "      <th></th>\n",
              "      <th></th>\n",
              "      <th></th>\n",
              "      <th></th>\n",
              "      <th></th>\n",
              "      <th></th>\n",
              "      <th></th>\n",
              "      <th></th>\n",
              "      <th></th>\n",
              "    </tr>\n",
              "  </thead>\n",
              "  <tbody>\n",
              "    <tr>\n",
              "      <th>1</th>\n",
              "      <td>0.0</td>\n",
              "      <td>0.0</td>\n",
              "      <td>0.0</td>\n",
              "      <td>0.0</td>\n",
              "      <td>0.0</td>\n",
              "      <td>0.0</td>\n",
              "      <td>0.0</td>\n",
              "      <td>3.5</td>\n",
              "      <td>0.0</td>\n",
              "      <td>3.5</td>\n",
              "      <td>...</td>\n",
              "      <td>0.0</td>\n",
              "      <td>0.0</td>\n",
              "      <td>4.0</td>\n",
              "      <td>0.0</td>\n",
              "      <td>4.0</td>\n",
              "      <td>0.0</td>\n",
              "      <td>0.0</td>\n",
              "      <td>0.0</td>\n",
              "      <td>0.0</td>\n",
              "      <td>0.0</td>\n",
              "    </tr>\n",
              "    <tr>\n",
              "      <th>2</th>\n",
              "      <td>0.0</td>\n",
              "      <td>0.0</td>\n",
              "      <td>0.0</td>\n",
              "      <td>0.0</td>\n",
              "      <td>0.0</td>\n",
              "      <td>0.0</td>\n",
              "      <td>0.0</td>\n",
              "      <td>5.0</td>\n",
              "      <td>0.0</td>\n",
              "      <td>0.0</td>\n",
              "      <td>...</td>\n",
              "      <td>0.0</td>\n",
              "      <td>0.0</td>\n",
              "      <td>0.0</td>\n",
              "      <td>0.0</td>\n",
              "      <td>0.0</td>\n",
              "      <td>0.0</td>\n",
              "      <td>0.0</td>\n",
              "      <td>0.0</td>\n",
              "      <td>0.0</td>\n",
              "      <td>0.0</td>\n",
              "    </tr>\n",
              "    <tr>\n",
              "      <th>3</th>\n",
              "      <td>0.0</td>\n",
              "      <td>0.0</td>\n",
              "      <td>0.0</td>\n",
              "      <td>0.0</td>\n",
              "      <td>0.0</td>\n",
              "      <td>0.0</td>\n",
              "      <td>0.0</td>\n",
              "      <td>5.0</td>\n",
              "      <td>0.0</td>\n",
              "      <td>0.0</td>\n",
              "      <td>...</td>\n",
              "      <td>0.0</td>\n",
              "      <td>0.0</td>\n",
              "      <td>0.0</td>\n",
              "      <td>0.0</td>\n",
              "      <td>5.0</td>\n",
              "      <td>0.0</td>\n",
              "      <td>0.0</td>\n",
              "      <td>0.0</td>\n",
              "      <td>0.0</td>\n",
              "      <td>0.0</td>\n",
              "    </tr>\n",
              "    <tr>\n",
              "      <th>4</th>\n",
              "      <td>0.0</td>\n",
              "      <td>0.0</td>\n",
              "      <td>0.0</td>\n",
              "      <td>0.0</td>\n",
              "      <td>0.0</td>\n",
              "      <td>0.0</td>\n",
              "      <td>0.0</td>\n",
              "      <td>0.0</td>\n",
              "      <td>0.0</td>\n",
              "      <td>0.0</td>\n",
              "      <td>...</td>\n",
              "      <td>0.0</td>\n",
              "      <td>0.0</td>\n",
              "      <td>0.0</td>\n",
              "      <td>0.0</td>\n",
              "      <td>0.0</td>\n",
              "      <td>0.0</td>\n",
              "      <td>0.0</td>\n",
              "      <td>0.0</td>\n",
              "      <td>0.0</td>\n",
              "      <td>0.0</td>\n",
              "    </tr>\n",
              "    <tr>\n",
              "      <th>5</th>\n",
              "      <td>0.0</td>\n",
              "      <td>0.0</td>\n",
              "      <td>0.0</td>\n",
              "      <td>0.0</td>\n",
              "      <td>0.0</td>\n",
              "      <td>0.0</td>\n",
              "      <td>0.0</td>\n",
              "      <td>0.0</td>\n",
              "      <td>0.0</td>\n",
              "      <td>0.0</td>\n",
              "      <td>...</td>\n",
              "      <td>0.0</td>\n",
              "      <td>0.0</td>\n",
              "      <td>0.0</td>\n",
              "      <td>0.0</td>\n",
              "      <td>0.0</td>\n",
              "      <td>0.0</td>\n",
              "      <td>0.0</td>\n",
              "      <td>0.0</td>\n",
              "      <td>0.0</td>\n",
              "      <td>0.0</td>\n",
              "    </tr>\n",
              "  </tbody>\n",
              "</table>\n",
              "<p>5 rows × 1018 columns</p>\n",
              "</div>\n",
              "      <button class=\"colab-df-convert\" onclick=\"convertToInteractive('df-d2aebb65-9a5b-4a2a-a1d9-037eab9222d8')\"\n",
              "              title=\"Convert this dataframe to an interactive table.\"\n",
              "              style=\"display:none;\">\n",
              "        \n",
              "  <svg xmlns=\"http://www.w3.org/2000/svg\" height=\"24px\"viewBox=\"0 0 24 24\"\n",
              "       width=\"24px\">\n",
              "    <path d=\"M0 0h24v24H0V0z\" fill=\"none\"/>\n",
              "    <path d=\"M18.56 5.44l.94 2.06.94-2.06 2.06-.94-2.06-.94-.94-2.06-.94 2.06-2.06.94zm-11 1L8.5 8.5l.94-2.06 2.06-.94-2.06-.94L8.5 2.5l-.94 2.06-2.06.94zm10 10l.94 2.06.94-2.06 2.06-.94-2.06-.94-.94-2.06-.94 2.06-2.06.94z\"/><path d=\"M17.41 7.96l-1.37-1.37c-.4-.4-.92-.59-1.43-.59-.52 0-1.04.2-1.43.59L10.3 9.45l-7.72 7.72c-.78.78-.78 2.05 0 2.83L4 21.41c.39.39.9.59 1.41.59.51 0 1.02-.2 1.41-.59l7.78-7.78 2.81-2.81c.8-.78.8-2.07 0-2.86zM5.41 20L4 18.59l7.72-7.72 1.47 1.35L5.41 20z\"/>\n",
              "  </svg>\n",
              "      </button>\n",
              "      \n",
              "  <style>\n",
              "    .colab-df-container {\n",
              "      display:flex;\n",
              "      flex-wrap:wrap;\n",
              "      gap: 12px;\n",
              "    }\n",
              "\n",
              "    .colab-df-convert {\n",
              "      background-color: #E8F0FE;\n",
              "      border: none;\n",
              "      border-radius: 50%;\n",
              "      cursor: pointer;\n",
              "      display: none;\n",
              "      fill: #1967D2;\n",
              "      height: 32px;\n",
              "      padding: 0 0 0 0;\n",
              "      width: 32px;\n",
              "    }\n",
              "\n",
              "    .colab-df-convert:hover {\n",
              "      background-color: #E2EBFA;\n",
              "      box-shadow: 0px 1px 2px rgba(60, 64, 67, 0.3), 0px 1px 3px 1px rgba(60, 64, 67, 0.15);\n",
              "      fill: #174EA6;\n",
              "    }\n",
              "\n",
              "    [theme=dark] .colab-df-convert {\n",
              "      background-color: #3B4455;\n",
              "      fill: #D2E3FC;\n",
              "    }\n",
              "\n",
              "    [theme=dark] .colab-df-convert:hover {\n",
              "      background-color: #434B5C;\n",
              "      box-shadow: 0px 1px 3px 1px rgba(0, 0, 0, 0.15);\n",
              "      filter: drop-shadow(0px 1px 2px rgba(0, 0, 0, 0.3));\n",
              "      fill: #FFFFFF;\n",
              "    }\n",
              "  </style>\n",
              "\n",
              "      <script>\n",
              "        const buttonEl =\n",
              "          document.querySelector('#df-d2aebb65-9a5b-4a2a-a1d9-037eab9222d8 button.colab-df-convert');\n",
              "        buttonEl.style.display =\n",
              "          google.colab.kernel.accessAllowed ? 'block' : 'none';\n",
              "\n",
              "        async function convertToInteractive(key) {\n",
              "          const element = document.querySelector('#df-d2aebb65-9a5b-4a2a-a1d9-037eab9222d8');\n",
              "          const dataTable =\n",
              "            await google.colab.kernel.invokeFunction('convertToInteractive',\n",
              "                                                     [key], {});\n",
              "          if (!dataTable) return;\n",
              "\n",
              "          const docLinkHtml = 'Like what you see? Visit the ' +\n",
              "            '<a target=\"_blank\" href=https://colab.research.google.com/notebooks/data_table.ipynb>data table notebook</a>'\n",
              "            + ' to learn more about interactive tables.';\n",
              "          element.innerHTML = '';\n",
              "          dataTable['output_type'] = 'display_data';\n",
              "          await google.colab.output.renderOutput(dataTable, element);\n",
              "          const docLink = document.createElement('div');\n",
              "          docLink.innerHTML = docLinkHtml;\n",
              "          element.appendChild(docLink);\n",
              "        }\n",
              "      </script>\n",
              "    </div>\n",
              "  </div>\n",
              "  "
            ]
          },
          "metadata": {},
          "execution_count": 47
        }
      ]
    },
    {
      "cell_type": "code",
      "source": [
        "X = rating_crosstab.T\n",
        "X.shape"
      ],
      "metadata": {
        "colab": {
          "base_uri": "https://localhost:8080/"
        },
        "id": "nwYuPAasIhhb",
        "outputId": "045045e2-588d-4688-a6bd-a6dfba87f68b"
      },
      "id": "nwYuPAasIhhb",
      "execution_count": 48,
      "outputs": [
        {
          "output_type": "execute_result",
          "data": {
            "text/plain": [
              "(1018, 138488)"
            ]
          },
          "metadata": {},
          "execution_count": 48
        }
      ]
    },
    {
      "cell_type": "code",
      "source": [
        "from sklearn.decomposition import TruncatedSVD\n",
        "SVD = TruncatedSVD(n_components=12, random_state=17)\n",
        "resultant_matrix = SVD.fit_transform(X)\n",
        "corr_mat = np.corrcoef(resultant_matrix)\n",
        "movie_names = rating_crosstab.columns\n",
        "movies_list = list(movie_names)"
      ],
      "metadata": {
        "id": "T94C6y3DIhk4"
      },
      "id": "T94C6y3DIhk4",
      "execution_count": 55,
      "outputs": []
    },
    {
      "cell_type": "code",
      "source": [
        "def collabfilter(title):\n",
        "  movies = movies_list.index(title)\n",
        "  corr_movie = corr_mat[movies]\n",
        "  print(list(movie_names[(corr_movie<1.0) & (corr_movie> 0.90)]))"
      ],
      "metadata": {
        "id": "8nWJQ4QDQ1Gq"
      },
      "id": "8nWJQ4QDQ1Gq",
      "execution_count": 60,
      "outputs": []
    },
    {
      "cell_type": "code",
      "source": [
        "collabfilter('Wizard of Oz, The')"
      ],
      "metadata": {
        "colab": {
          "base_uri": "https://localhost:8080/"
        },
        "id": "cMBHcKedRk6m",
        "outputId": "6b1d9508-8d00-4e30-cc3b-0ccd678f46fb"
      },
      "id": "cMBHcKedRk6m",
      "execution_count": 61,
      "outputs": [
        {
          "output_type": "stream",
          "name": "stdout",
          "text": [
            "['Amadeus', 'American Graffiti', 'Arsenic and Old Lace', 'Birds, The', \"Breakfast at Tiffany's\", 'Casablanca', 'E.T. the Extra-Terrestrial', 'Fantasia', 'Gone with the Wind', 'Graduate, The', 'Grease', \"It's a Wonderful Life\", 'M*A*S*H (a.k.a. MASH)', 'Mary Poppins', 'Mr. Smith Goes to Washington', 'My Fair Lady', 'Philadelphia Story, The', 'Producers, The', 'Return of the Pink Panther, The', 'Roman Holiday', \"Singin' in the Rain\", 'Some Like It Hot', 'Sound of Music, The', 'To Kill a Mockingbird', 'Tootsie', 'West Side Story', 'Young Frankenstein']\n"
          ]
        }
      ]
    },
    {
      "cell_type": "code",
      "source": [
        "collabfilter(\"Harry Potter and the Sorcerer's Stone (a.k.a. Harry Potter and the Philosopher's Stone)\")"
      ],
      "metadata": {
        "colab": {
          "base_uri": "https://localhost:8080/"
        },
        "id": "vFDnZM-AQ1Lf",
        "outputId": "3fb5d8cd-3854-4597-ccc7-433d1e09ff7e"
      },
      "id": "vFDnZM-AQ1Lf",
      "execution_count": 62,
      "outputs": [
        {
          "output_type": "stream",
          "name": "stdout",
          "text": [
            "['Bend It Like Beckham', \"Bridget Jones's Diary\", 'Charlie and the Chocolate Factory', \"Charlie's Angels\", 'Chicago', 'Chicken Run', 'Chronicles of Narnia: The Lion, the Witch and the Wardrobe, The', \"Emperor's New Groove, The\", 'Finding Nemo', 'Finding Neverland', 'Harry Potter and the Chamber of Secrets', 'Harry Potter and the Goblet of Fire', 'Harry Potter and the Prisoner of Azkaban', 'Ice Age', 'Incredibles, The', 'Legally Blonde', 'Lord of the Rings: The Fellowship of the Ring, The', 'Lord of the Rings: The Two Towers, The', 'Love Actually', 'Master and Commander: The Far Side of the World', 'Matrix Reloaded, The', 'Men in Black II (a.k.a. MIIB) (a.k.a. MIB 2)', 'Minority Report', 'Monsters, Inc.', 'Moulin Rouge', 'My Big Fat Greek Wedding', \"Ocean's Eleven\", 'Pirates of the Caribbean: The Curse of the Black Pearl', 'School of Rock', 'Shrek', 'Shrek 2', 'Signs', 'Spider-Man', 'Spider-Man 2', 'Star Wars: Episode II - Attack of the Clones', 'Star Wars: Episode III - Revenge of the Sith', 'The Count of Monte Cristo', 'Toy Story 2', 'X-Men', 'X2: X-Men United']\n"
          ]
        }
      ]
    }
  ],
  "metadata": {
    "kernelspec": {
      "display_name": "Python 3 (ipykernel)",
      "language": "python",
      "name": "python3"
    },
    "language_info": {
      "codemirror_mode": {
        "name": "ipython",
        "version": 3
      },
      "file_extension": ".py",
      "mimetype": "text/x-python",
      "name": "python",
      "nbconvert_exporter": "python",
      "pygments_lexer": "ipython3",
      "version": "3.8.2"
    },
    "colab": {
      "provenance": []
    }
  },
  "nbformat": 4,
  "nbformat_minor": 5
}